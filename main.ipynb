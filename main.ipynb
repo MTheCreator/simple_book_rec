{
 "cells": [
  {
   "attachments": {},
   "cell_type": "markdown",
   "metadata": {},
   "source": [
    "# A Simple Book Recommendation System\n",
    "\n",
    "###### Done by __Safae HAJJOUT (@Ariyes)__ and __Mounia BADDOU (@MTheCreator)__ for Algorithmics class of 2022 / 2023.\n",
    "###### Mohammed VI Polytechnic University, School of Computer Science, 1st year.\n"
   ]
  },
  {
   "attachments": {},
   "cell_type": "markdown",
   "metadata": {},
   "source": [
    "### ______________________________"
   ]
  },
  {
   "attachments": {},
   "cell_type": "markdown",
   "metadata": {},
   "source": [
    "##### This is a walkthrough of our simple recommendation system implemented using Python 3.10 and primitive data structures such as Linked lists, Arrays and some Python structures (Lists, Dictionaries, ... ).\n",
    "\n",
    "##### The goal of this recommender system is to try and give the most acurate recommendations based on multiple criterias: titles, ratings, genres, description and others. We tried to make use also of some libraries to ease the recommedation process that is related to natural language (NLP).\n",
    "\n",
    "#### Now we will go through the purpose of every chunk of code. Good reading :) ."
   ]
  },
  {
   "attachments": {},
   "cell_type": "markdown",
   "metadata": {},
   "source": [
    "### _____________________________"
   ]
  },
  {
   "attachments": {},
   "cell_type": "markdown",
   "metadata": {},
   "source": [
    "#### __First import what is needed !__"
   ]
  },
  {
   "cell_type": "code",
<<<<<<< HEAD
   "execution_count": 399,
=======
   "execution_count": 1,
>>>>>>> b226b4ca218f897a4b603a0b39fd0082b79a8479
   "metadata": {},
   "outputs": [],
   "source": [
    "# Here can be downloaded every needed library for our code!\n",
    "#! pip install --upgrade click\n",
    "#! pip intall nltk\n",
    "#! pip install json"
   ]
  },
  {
   "cell_type": "code",
<<<<<<< HEAD
   "execution_count": 400,
=======
   "execution_count": 2,
>>>>>>> b226b4ca218f897a4b603a0b39fd0082b79a8479
   "metadata": {},
   "outputs": [
    {
     "name": "stderr",
     "output_type": "stream",
     "text": [
      "[nltk_data] Downloading package punkt to\n",
<<<<<<< HEAD
      "[nltk_data]     C:\\Users\\DELL\\AppData\\Roaming\\nltk_data...\n",
=======
      "[nltk_data]     C:\\Users\\hp\\AppData\\Roaming\\nltk_data...\n",
>>>>>>> b226b4ca218f897a4b603a0b39fd0082b79a8479
      "[nltk_data]   Package punkt is already up-to-date!\n",
      "[nltk_data] Downloading package stopwords to\n",
      "[nltk_data]     C:\\Users\\DELL\\AppData\\Roaming\\nltk_data...\n",
      "[nltk_data]   Package stopwords is already up-to-date!\n"
     ]
<<<<<<< HEAD
    },
    {
     "data": {
      "text/plain": [
       "True"
      ]
     },
     "execution_count": 400,
     "metadata": {},
     "output_type": "execute_result"
=======
>>>>>>> b226b4ca218f897a4b603a0b39fd0082b79a8479
    }
   ],
   "source": [
    "from usefulclasses import Node, LinkedList, Queue, heapsort\n",
    "from errors import *\n",
    "import json\n",
    "import nltk\n",
    "import random\n",
    "from nltk.corpus import stopwords\n",
    "from nltk.stem import PorterStemmer\n",
    "nltk.download(\"punkt\")\n",
<<<<<<< HEAD
    "nltk.download('stopwords')\n"
=======
    "nltk.download('stopwords')\n",
    "\n",
    "from errors import *\n",
    "import spacy\n",
    "nlp = spacy.load(\"en_core_web_sm\")"
>>>>>>> b226b4ca218f897a4b603a0b39fd0082b79a8479
   ]
  },
  {
   "attachments": {},
   "cell_type": "markdown",
   "metadata": {},
   "source": [
    "#### We will be using the __Porter stemming algorithm__ to facilitate recommendation"
   ]
  },
  {
   "cell_type": "code",
<<<<<<< HEAD
   "execution_count": 401,
=======
   "execution_count": 3,
>>>>>>> b226b4ca218f897a4b603a0b39fd0082b79a8479
   "metadata": {},
   "outputs": [],
   "source": [
    "stopwords_set = set(stopwords.words('english'))\n",
    "ps = PorterStemmer()"
   ]
  },
  {
   "attachments": {},
   "cell_type": "markdown",
   "metadata": {},
   "source": [
    "#### _______________________________"
   ]
  },
  {
   "attachments": {},
   "cell_type": "markdown",
   "metadata": {},
   "source": [
    "#### We can now load our book and user related data"
   ]
  },
  {
   "cell_type": "code",
   "execution_count": 402,
   "metadata": {},
   "outputs": [],
   "source": [
    "with open('books.json') as file:\n",
    "    books = json.load(file)\n",
    "file.close()\n",
    "    \n",
    "with open('users.json') as file:\n",
    "    users = json.load(file)\n",
    "file.close()"
   ]
  },
  {
   "attachments": {},
   "cell_type": "markdown",
   "metadata": {},
   "source": [
    "#### _________________________________"
   ]
  },
  {
   "attachments": {},
   "cell_type": "markdown",
   "metadata": {},
   "source": [
    "## __Book Class__\n",
    "\n",
    "##### One of our main classes, contains every valuable information on every book in our dataset in the shape of attributes (author, desc, title, ... ).\n",
    "##### This class also contains two methods: __str__ and __similar_books__. One serves as a display function, and the other one as a recommendation method based on ranking given by our users.\n",
    "##### More informations in our docstrings!"
   ]
  },
  {
   "cell_type": "code",
   "execution_count": 403,
   "metadata": {},
   "outputs": [],
   "source": [
    "class Book:\n",
    "    def __init__(self, author: str, desc: str, genre: list, isbn: str, pages: int, rating: float, title: str, totalratings: int):\n",
    "        \"\"\" \n",
    "        Initializes a Book object with the provided details.\n",
    "\n",
    "            Args:\n",
    "                author (str): The author of the book.\n",
    "                desc (str): A short description of the content of the book.\n",
    "                genre (list): A list of genres that the book belongs to.\n",
    "                isbn (str): The ID of the book.\n",
    "                pages (int): The number of pages in the book.\n",
    "                rating (float): The overall rating of the book on a scale of 0 to 5.\n",
    "                title (str): The title of the book.\n",
    "                totalratings (int): The total number of ratings given to the book.\n",
    "\n",
    "            Returns:\n",
    "                None\n",
    "        \"\"\"\n",
    "        verify_book(author= author, desc= desc, genre= genre, isbn= isbn, rating= rating, total_ratings= totalratings, title= title)\n",
    "        self.author = author                    \n",
    "        self.desc = desc                        \n",
    "        self.genre = genre                      \n",
    "        self.isbn = isbn                        \n",
    "        self.pages = pages                      \n",
    "        self.rating = rating\n",
    "        self.title = title \n",
    "        self.totalratings = totalratings      \n",
    "        self.rate = self.rating * self.totalratings \n",
    "        \n",
    "    def __str__(self):\n",
    "        \"\"\" A display method where the __str__ function was overridden to meet the needs of our recommendation system. \"\"\"\n",
    "        return self.title + \" by \" + self.author"
   ]
  },
  {
   "attachments": {},
   "cell_type": "markdown",
   "metadata": {},
   "source": [
    "##### In this following chunk of code, we tried to sort our database of Book objects in a Python list using a heapsort to ease our recommendation based on ratings. \n",
    "##### The return will be the index, which will represent the rank of the book."
   ]
  },
  {
   "cell_type": "code",
   "execution_count": 404,
   "metadata": {},
   "outputs": [],
   "source": [
    "def create_books_list():\n",
    "    \"\"\"\n",
    "    Creates a list of Book objects from the provided books data.\n",
    "\n",
    "    Returns:\n",
    "        list: A list of Book objects sorted in non-increasing order based on their ratings and total ratings.\n",
    "\n",
    "    \"\"\"\n",
    "    books_list = []\n",
    "    for book in books:\n",
    "        author, desc, genre, isbn, pages, rating, title, totalratings = list(book.values())\n",
    "        obj = Book(author, desc, list({g.lower() for g in genre.split(',')}), isbn, pages, rating, title, totalratings)\n",
    "        books_list.append(obj)\n",
    "\n",
    "    heapsort(books_list)\n",
    "    return books_list"
   ]
  },
  {
   "cell_type": "code",
<<<<<<< HEAD
   "execution_count": 405,
=======
   "execution_count": 7,
>>>>>>> b226b4ca218f897a4b603a0b39fd0082b79a8479
   "metadata": {},
   "outputs": [],
   "source": [
    "books_list = create_books_list()\n",
    "size = len(books_list)"
   ]
  },
  {
   "attachments": {},
   "cell_type": "markdown",
   "metadata": {},
   "source": [
    "##### In this chunk, we try to tokenize our database in order to ease the recommendation using NLTK.\n",
    "##### This operation will help reduce the size of the words we can use to recommend. (Stemming and Lemmatization).  "
   ]
  },
  {
   "cell_type": "code",
<<<<<<< HEAD
   "execution_count": 406,
=======
   "execution_count": 8,
>>>>>>> b226b4ca218f897a4b603a0b39fd0082b79a8479
   "metadata": {},
   "outputs": [],
   "source": [
    "def create_books_dict(books_list):\n",
    "    \"\"\"\n",
    "    Creates a dictionary of books using their ISBN as keys and a set of tokenized words from the title, description, and genre as values.\n",
    "\n",
    "    Args:\n",
    "        books_list (list): A list of Book objects.\n",
    "\n",
    "    Returns:\n",
    "        dict: A dictionary where the keys are the ISBNs of the books and the values are sets of tokenized words from the title, description, and genre.\n",
    "\n",
    "    \"\"\"\n",
    "    verify_word = lambda word: word.lower() not in stopwords_set and word.isalnum()\n",
    "\n",
    "    tokenized_title = lambda book: {word.lower() for word in book.title.split(' ') if verify_word(word)}\n",
    "    tokenized_desc = lambda book: {word.lower() for word in book.desc.split(' ') if verify_word(word)}\n",
    "\n",
    "    return { book.isbn : tokenized_title(book) | tokenized_desc(book) | set(book.genre) for book in books_list }\n",
    "    "
   ]
  },
  {
   "cell_type": "code",
<<<<<<< HEAD
   "execution_count": 407,
=======
   "execution_count": 9,
>>>>>>> b226b4ca218f897a4b603a0b39fd0082b79a8479
   "metadata": {},
   "outputs": [],
   "source": [
    "books_dict = create_books_dict(books_list)"
   ]
  },
  {
   "attachments": {},
   "cell_type": "markdown",
   "metadata": {},
   "source": [
    "#### _______________________________"
   ]
  },
  {
   "attachments": {},
   "cell_type": "markdown",
   "metadata": {},
   "source": [
    "## __User Class__\n",
    "\n",
    "##### Our second Class for this code, where we store every information related to the user, such as the id, name, library, wishlist and other.\n",
    "\n",
    "##### Almost every recommendation will be done through the User class since it is easier and recommends to each and every user.\n",
    "\n",
    "##### For the methods of this class, they will be explained in the docstrings that accompany the code."
   ]
  },
  {
   "cell_type": "code",
<<<<<<< HEAD
   "execution_count": 408,
=======
   "execution_count": 10,
>>>>>>> b226b4ca218f897a4b603a0b39fd0082b79a8479
   "metadata": {},
   "outputs": [],
   "source": [
    "# This will aid for the read_book and rate_book methods in the user class\n",
    "def change_value(queue: Queue, old_value, new_value):\n",
    "    \"\"\"\n",
    "    Modifies a given queue by replacing occurrences of an old value with a new value.\n",
    "\n",
    "    Args:\n",
    "        queue (Queue): The queue to be modified.\n",
    "        old_value: The value to be replaced.\n",
    "        new_value: The new value to replace the old value with.\n",
    "\n",
    "    Returns:\n",
    "        None: This function modifies the queue in-place.\n",
    "\n",
    "    \"\"\"\n",
    "    modified = False\n",
    "    temp_queue = Queue()\n",
    "\n",
    "    # Dequeue elements until the desired value is found or the queue becomes empty\n",
    "    while len(queue) > 0:\n",
    "        element = queue.dequeue()\n",
    "        if element == old_value:\n",
    "            element = new_value\n",
    "            modified = True\n",
    "        temp_queue.enqueue(element)\n",
    "    # Enqueue the modified value back into the queue\n",
    "    if modified:\n",
    "        queue.enqueue(new_value)\n",
    "    # Enqueue the remaining dequeued elements back into the queue\n",
    "    while len(temp_queue) > 0:\n",
    "        queue.enqueue(temp_queue.dequeue())"
   ]
  },
  {
   "cell_type": "code",
<<<<<<< HEAD
   "execution_count": 409,
=======
   "execution_count": 11,
>>>>>>> b226b4ca218f897a4b603a0b39fd0082b79a8479
   "metadata": {},
   "outputs": [],
   "source": [
    "class User:\n",
    "    def __init__(self, id: int, name: str, fav_genres: LinkedList):\n",
    "        \"\"\"\n",
    "        Initializes a User object with the provided attributes.\n",
    "\n",
    "        Args:\n",
    "            id (int): The ID of the user.\n",
    "            name (str): The name of the user.\n",
    "            fav_genres (LinkedList): A linked list containing the user's favorite genres.\n",
    "            library (Queue): A queue representing the user's library of books.\n",
    "            wishlist (Queue): A queue representing the user's wishlist of books.\n",
    "\n",
    "        \"\"\"\n",
    "        verify_user(user_id= id, name= name, genres= fav_genres)\n",
<<<<<<< HEAD
    "        \n",
=======
>>>>>>> b226b4ca218f897a4b603a0b39fd0082b79a8479
    "        self.id = id\n",
    "        self.name = name\n",
    "        self.fav_genres = fav_genres\n",
    "        self.library = Queue()\n",
    "        self.wishlist = Queue()\n",
    "        self.community = LinkedList()\n",
    "\n",
    "    def read_book(self, book: Book, rate: int= 0):\n",
    "        \"\"\"\n",
    "        Rates a book in the user's library.\n",
    "\n",
    "        Args:\n",
    "            book (Book): The book to be rated.\n",
    "            rate (int): The rating to assign to the book.\n",
    "\n",
    "        Returns:\n",
    "            None\n",
    "\n",
    "        \"\"\"\n",
<<<<<<< HEAD
    "        if type(book) != Book:\n",
    "            raise TypeError(\"Book must be of type Book Object\")\n",
    "        \n",
=======
>>>>>>> b226b4ca218f897a4b603a0b39fd0082b79a8479
    "        print(f\"the book {str(book)} was added successfully to your library ... \")\n",
    "        self.library.enqueue((book, rate))\n",
    "        print(f\"You have rated the book {str(book)}: {rate} ... \")\n",
    "\n",
    "    def add_to_wishlist(self, book: Book):\n",
    "        \"\"\"\n",
    "        Adds a book to the user's wishlist.\n",
    "\n",
    "        Args:\n",
    "            book (Book): The book to be added to the wishlist.\n",
    "\n",
    "        Returns:\n",
    "            None\n",
    "\n",
    "        \"\"\"\n",
    "        if type(book) != Book:\n",
    "            raise TypeError(\"Book must be of type Book Object\")\n",
    "        self.wishlist.enqueue(book)\n",
    "\n",
    "    def search_author(self, author: str) -> LinkedList:\n",
    "        \"\"\"\n",
    "        Searches for books by a specific author.\n",
    "\n",
    "        Args:\n",
    "            author (str): The author's name to search for.\n",
    "\n",
    "        Returns:\n",
    "            LinkedList: A linked list of books written by the specified author.\n",
    "\n",
    "        \"\"\"\n",
    "        books = LinkedList()\n",
    "        for book in books_list:\n",
    "            if author in book.author:\n",
    "                books.prepend(book)\n",
    "        return books\n",
    "\n",
    "    def search_book(self, title: str) -> LinkedList:\n",
    "        \"\"\"\n",
    "        Searches for books with a specific title.\n",
    "\n",
    "        Args:\n",
    "            title (str): The title of the book to search for.\n",
    "\n",
    "        Returns:\n",
    "            LinkedList: A linked list of books with the specified title.\n",
    "\n",
    "        \"\"\"\n",
    "        verify_title(title)\n",
    "        \n",
    "        books = LinkedList()\n",
    "        for book in books_list:\n",
    "            if title in book.title:\n",
    "                books.prepend(book)\n",
    "        return books\n",
    "\n",
    "    def search_book_isbn(self, isbn: str) -> LinkedList:\n",
    "        \"\"\"\n",
    "    Searches for a book with a specific ISBN.\n",
    "\n",
    "    Args:\n",
    "        isbn (str): The ISBN of the book to search for.\n",
    "\n",
    "    Returns:\n",
    "        Book Object: The book with the specified ISBN.\n",
    "\n",
    "    \"\"\"\n",
    "        verify_isbn(isbn)\n",
    "        \n",
    "        for book in books_list:\n",
    "            if isbn in book.isbn:\n",
    "                return book\n",
    "\n",
    "    def search_genre(self, genre: str) -> LinkedList:\n",
    "        \"\"\"\n",
    "    Searches for books within a specific genre.\n",
    "\n",
    "    Args:\n",
    "        genre (str): The genre to search for.\n",
    "\n",
    "    Returns:\n",
    "        LinkedList: A linked list of books belonging to the specified genre.\n",
    "\n",
    "    \"\"\"\n",
    "        verify_genre(genre)\n",
    "        \n",
    "        books = LinkedList()\n",
    "        for book in books_list:\n",
    "            if genre.lower() in book.genre:\n",
    "                books.prepend(book)\n",
    "        return books\n",
    "\n",
    "    def search_keywords(self, keywords: str, lower = 0, higher = size) -> LinkedList:\n",
    "        \"\"\"\n",
    "    Searches for books based on one or more keywords .\n",
    "\n",
    "    Args:\n",
    "        keywords (str): Variable number of keyword arguments separated by commas (,).\n",
    "        lower (int): lower bound of search in the index, the higher it is the higher the book's rank\n",
    "        higher (int): higher bound of search in the index\n",
    "\n",
    "    Returns:\n",
    "        LinkedList: The books corresponding to the keywords\n",
    "\n",
    "    \"\"\"\n",
    "        verify_lower_higher(lower, higher)\n",
    "        \n",
    "        keyterms = [ps.stem(term) for term in keywords.split(',')]\n",
    "        books = LinkedList()\n",
    "        for i in range(lower, higher):\n",
    "            book = books_list[i]\n",
    "            tokens = [ps.stem(word) for word in books_dict[book.isbn]]\n",
    "            score = sum([1 if lemma in keyterms else 0 for lemma in tokens])\n",
    "            # book must have at least 6 keyterms in common\n",
    "            if score >= 6:\n",
    "                books.prepend(book.title)\n",
    "        \n",
    "        return books\n",
    "\n",
    "    def _find_max_count(self, data: list) -> str:\n",
    "        \"\"\"\n",
    "    Helper function to find the element with the maximum count in a list.\n",
    "\n",
    "    Args:\n",
    "        data (list): A list of elements.\n",
    "\n",
    "    Returns:\n",
    "        str: The element with the maximum count.\n",
    "\n",
    "    \"\"\"\n",
    "        counts = dict()\n",
    "        for elem in data:\n",
    "            # set count to 0 if checked for the first time else add 1\n",
    "            counts[elem] = counts.get(elem, 0) + 1\n",
    "\n",
    "        max_count = 0\n",
    "        for (elem, count) in counts.items():\n",
    "            (max_name, max_count) = (elem, count) if max_count < count else (max_name, max_count)\n",
    "\n",
    "        return max_name\n",
    "\n",
    "    def most_checked_genre(self) -> str:\n",
    "        \"\"\"\n",
    "    Searches for the genre that has been checked out the most in the user's library.\n",
    "\n",
    "    Returns:\n",
    "        str: The genre with the highest check count from the user.\n",
    "\n",
    "    \"\"\"\n",
    "        genres = [genre for node in self.library for genre in node.data[0].genre]\n",
    "        if genres != []:\n",
    "            return self._find_max_count(genres)\n",
    "\n",
    "    def most_checked_author(self) -> str:\n",
    "        \"\"\"\n",
    "    Searches for the author who has been checked out the most in the user's library.\n",
    "\n",
    "    Returns:\n",
    "        str: The author with the highest check count.\n",
    "\n",
    "    \"\"\"\n",
    "        # same approach as genre\n",
    "        authors = [author for node in self.library for author in node.data[0].author.split(',')]\n",
    "        if authors != []:\n",
    "            return self._find_max_count(authors)\n",
    "\n",
    "    def recommend_books_genre(self) -> dict:\n",
    "        \"\"\"\n",
    "    Recommends books based on the user's favorite genres. (Popularity Based Recommendation)\n",
    "\n",
    "    Returns:\n",
    "        dict: A dictionary where the keys are the user's favorite genres and the values are linked lists of recommended books.\n",
    "\n",
    "    \"\"\"\n",
    "        books = dict()\n",
    "        for genre in self.fav_genres:\n",
    "            count = 3\n",
    "            books[genre.data] = LinkedList()\n",
    "            # traverse books_list (heap) in reverse order to get values in decreasing order\n",
    "            for i in range(size - 1, -1, -1):\n",
    "                if genre.data.lower() in books_list[i].genre and count != 0:\n",
    "                    books[genre.data].append(books_list[i])\n",
    "                    count -= 1\n",
    "        return books\n",
    "    \n",
    "    def recommend_books(self) -> LinkedList:\n",
    "        \"\"\"\n",
    "    Recommends books based on the user's past liked books in their library. (Content Based Recommendation)\n",
    "\n",
    "    Returns:\n",
    "        LinkedList: A linked list containing linked list nodes, each holding books similar to the ones \n",
    "                    the user liked in a range from 20 under to 20 upper to keep them close in rating\n",
    "\n",
    "    \"\"\"\n",
    "        recommended = LinkedList()\n",
<<<<<<< HEAD
    "        # check only for books in library with a rate >= 4\n",
=======
    "        \n",
>>>>>>> b226b4ca218f897a4b603a0b39fd0082b79a8479
    "        liked_books = [node.data[0] for node in self.library if node.data[1] >= 4]\n",
    "        for book in liked_books:\n",
    "            idx = books_list.index(book)\n",
    "            higher, lower = min(idx + 20, size), max(idx - 20, 0)\n",
    "            string = ','.join(list(books_dict[book.isbn]))\n",
    "            recs = self.search_keywords(string, lower, higher)\n",
    "            recommended.prepend(recs)\n",
    "        return recommended\n",
    "    \n",
<<<<<<< HEAD
    "    def add_community(self, users: list) -> None:\n",
    "        \"\"\"\n",
    "    Searches for users with similar tastes to the user's and adds them to the community attribute (Book club function).\n",
    "\n",
    "    Returns:\n",
    "        None\n",
    "\n",
    "    \"\"\"\n",
    "        for user in users:\n",
    "            if user.most_checked_genre() in self.most_checked_genre() or user.most_checked_author() in self.most_checked_author():\n",
    "                self.community.prepend(user)\n",
    "                print(f\"{user.name} with id: {user.id} was added successfully to your Reader Community !\")\n",
    "\n",
    "    def recommend_other_users(self) -> LinkedList:\n",
    "        \"\"\"\n",
    "    Recommends books based on the user's community. (Collaborative Filtering based Recommendation)\n",
    "\n",
    "    Returns:\n",
    "        LinkedList: A linked list containing lists, each holding books liked by the user's friends\n",
    "                    that are not already in the user's library\n",
    "\n",
    "    \"\"\"\n",
    "        no_doubles = lambda book, lib: all(book.data[0].title != elem.data[0].title for elem in lib)\n",
    "        \n",
    "        experiment = LinkedList()\n",
    "        for friend in self.community:\n",
    "            friend_books = [node.data[0] for node in friend.data.library if no_doubles(node, self.library) and node.data[1] >= 3]\n",
    "            for book in friend_books:\n",
    "                experiment.prepend(book)\n",
=======
    "    def add_community(self, users: list):\n",
    "        for user in users:\n",
    "            if user.most_checked_genre() in self.fav_genres:\n",
    "                self.community.add(user)\n",
    "        print(f\"{user.name} with id: {user.id} was added successfully to your Reader Community !\")\n",
    "\n",
    "    def recommend_other_users(self):\n",
    "        experiment = LinkedList()\n",
    "        for friend in self.community:\n",
    "            friend_books = [node.data[0] for node in friend.library if node.data[0] not in self.library and node.data[1] >= 4]\n",
    "            experiment.prepend(friend_books)\n",
>>>>>>> b226b4ca218f897a4b603a0b39fd0082b79a8479
    "        \n",
    "        return experiment "
   ]
  },
  {
   "cell_type": "code",
<<<<<<< HEAD
   "execution_count": 410,
=======
   "execution_count": 12,
>>>>>>> b226b4ca218f897a4b603a0b39fd0082b79a8479
   "metadata": {},
   "outputs": [],
   "source": [
    "def create_users_list():\n",
    "    \"\"\"\n",
    "    Creates a list of User objects from the provided users data.\n",
    "\n",
    "    Returns:\n",
    "        list: A list of User objects.\n",
    "\n",
    "    \"\"\"\n",
    "    def _generate_linked_list(py_l, linked_l):\n",
    "        # helper function to generate linked list from python list\n",
    "        for elem in py_l:\n",
    "            linked_l.prepend(elem)\n",
    "        return linked_l\n",
    "    \n",
    "    users_list = []\n",
    "    for user in users:\n",
    "        user_id, name, genres = list(user.values())\n",
    "        obj = User(user_id, name, _generate_linked_list(genres, LinkedList()))\n",
    "        users_list.append(obj)\n",
    "\n",
    "    return users_list\n",
    "\n",
    "users = create_users_list()"
   ]
  },
  {
   "attachments": {},
   "cell_type": "markdown",
   "metadata": {},
   "source": [
    "# <b>Project Simulation:</b>"
   ]
  },
  {
   "cell_type": "code",
<<<<<<< HEAD
   "execution_count": 411,
=======
   "execution_count": 13,
>>>>>>> b226b4ca218f897a4b603a0b39fd0082b79a8479
   "metadata": {},
   "outputs": [
    {
     "name": "stdout",
     "output_type": "stream",
     "text": [
<<<<<<< HEAD
      "{'Octavia Schwartz': 'Victorian, Humor.', 'Edwin Preston': 'Gender Studies, Business.', 'Indie Greer': 'Chad, Bolivia.', 'Koda Lowe': 'Morocco, Eritrea.', 'Amari Felix': 'Beer, Angels.', 'Rodney Whitaker': 'Basketball, Mail Order Brides.', 'Ivanna Hebert': 'Gay, Mental Illness.', 'Guillermo Blanchard': 'Greece, Conservation.', 'Layne Heath': 'Polish Literature, Erotica.', 'Lionel Pope': 'Spain, College.', 'Aurelia Wilkinson': 'Comedian, 14th Century.', 'Leonard Schroeder': 'Muslims, Germany.', 'Cameron Ellis': 'Greece, Cities.', 'Cole Coffey': 'Russian Literature, Football.', 'Paola Patel': 'Nursery Rhymes, Modern Classics.', 'Parker Cruz': 'Latin American History, Quilting.', 'Claire Pruitt': 'Thelema, Liberia.', 'Gatlin Lozano': 'Scotland, Natural History.', 'Cecelia Wilkinson': 'Time Travel, Zimbabwe.', 'Leonard Bravo': 'Personal Development, Anglo Saxon.', 'Amoura Moran': 'Crime, Photography.'}\n"
=======
      "['Octavia Schwartz', 'Edwin Preston', 'Indie Greer', 'Koda Lowe', 'Amari Felix', 'Rodney Whitaker', 'Ivanna Hebert', 'Guillermo Blanchard', 'Layne Heath', 'Lionel Pope', 'Aurelia Wilkinson', 'Leonard Schroeder', 'Cameron Ellis', 'Cole Coffey', 'Paola Patel', 'Parker Cruz', 'Claire Pruitt', 'Gatlin Lozano', 'Cecelia Wilkinson', 'Leonard Bravo', 'Amoura Moran']\n",
      "['Victorian, Humor, ', 'Gender Studies, Business, ', 'Chad, Bolivia, ', 'Morocco, Eritrea, ', 'Beer, Angels, ', 'Basketball, Mail Order Brides, ', 'Gay, Mental Illness, ', 'Greece, Conservation, ', 'Polish Literature, Erotica, ', 'Spain, College, ', 'Comedian, 14th Century, ', 'Muslims, Germany, ', 'Greece, Cities, ', 'Russian Literature, Football, ', 'Nursery Rhymes, Modern Classics, ', 'Latin American History, Quilting, ', 'Thelema, Liberia, ', 'Scotland, Natural History, ', 'Time Travel, Zimbabwe, ', 'Personal Development, Anglo Saxon, ', 'Crime, Photography, ']\n"
>>>>>>> b226b4ca218f897a4b603a0b39fd0082b79a8479
     ]
    }
   ],
   "source": [
    "sample_users = users[:21]\n",
<<<<<<< HEAD
    "sample_dict = {user.name: str(user.fav_genres) for user in sample_users}\n",
    "\n",
    "print(sample_dict)"
=======
    "sample_names = [user.name for user in sample_users]\n",
    "sample_genres = [str(user.fav_genres) for user in sample_users]\n",
    "print(sample_names)\n",
    "print(sample_genres)"
>>>>>>> b226b4ca218f897a4b603a0b39fd0082b79a8479
   ]
  },
  {
   "cell_type": "code",
<<<<<<< HEAD
   "execution_count": 412,
   "metadata": {},
   "outputs": [
    {
     "name": "stdout",
     "output_type": "stream",
     "text": [
      "{0: {'Victorian': [<__main__.Book object at 0x000001AD9C45BEE0>, <__main__.Book object at 0x000001AD9C45BDC0>, <__main__.Book object at 0x000001AD9C984FA0>], 'Humor': [<__main__.Book object at 0x000001AD9C136B80>, <__main__.Book object at 0x000001ADA7C17E50>, <__main__.Book object at 0x000001ADA767B070>]}, 1: {'Gender Studies': [<__main__.Book object at 0x000001AD9CEAC5E0>, <__main__.Book object at 0x000001ADA5037A30>, <__main__.Book object at 0x000001AD9EDA6550>], 'Business': [<__main__.Book object at 0x000001AD9CBBD100>, <__main__.Book object at 0x000001ADADDBD1C0>, <__main__.Book object at 0x000001ADA6BDE7C0>]}, 2: {'Chad': [<__main__.Book object at 0x000001ADA4F78BE0>], 'Bolivia': [<__main__.Book object at 0x000001AD9EE2F040>, <__main__.Book object at 0x000001ADA6F98520>, <__main__.Book object at 0x000001AD9C910AC0>]}, 3: {'Morocco': [<__main__.Book object at 0x000001ADA740C5E0>, <__main__.Book object at 0x000001AD9C136D60>, <__main__.Book object at 0x000001ADA51B1280>], 'Eritrea': [<__main__.Book object at 0x000001ADA795F8E0>, <__main__.Book object at 0x000001ADA6BF77F0>]}, 4: {'Beer': [<__main__.Book object at 0x000001AD9C26DE20>, <__main__.Book object at 0x000001ADA6B58940>, <__main__.Book object at 0x000001ADA7B85EE0>], 'Angels': [<__main__.Book object at 0x000001AD9CACFE20>, <__main__.Book object at 0x000001AD9CA7BC70>, <__main__.Book object at 0x000001AD9C524E50>]}, 5: {'Basketball': [<__main__.Book object at 0x000001AD9E979430>, <__main__.Book object at 0x000001AD9CF0F9A0>, <__main__.Book object at 0x000001AD9C654A30>], 'Mail Order Brides': [<__main__.Book object at 0x000001AD9C66C250>, <__main__.Book object at 0x000001ADA74DC6D0>, <__main__.Book object at 0x000001AD9C45BB50>]}, 6: {'Gay': [<__main__.Book object at 0x000001ADA4F78340>, <__main__.Book object at 0x000001AD9C3D81C0>, <__main__.Book object at 0x000001ADA7A005E0>], 'Mental Illness': [<__main__.Book object at 0x000001AD9EF7DDF0>, <__main__.Book object at 0x000001AD9D145AF0>, <__main__.Book object at 0x000001ADA495CD30>]}, 7: {'Greece': [<__main__.Book object at 0x000001ADADDBD0D0>, <__main__.Book object at 0x000001ADA701C640>, <__main__.Book object at 0x000001AD9CDACBB0>], 'Conservation': [<__main__.Book object at 0x000001ADA5496100>, <__main__.Book object at 0x000001ADA795FD90>, <__main__.Book object at 0x000001ADA6D2FAC0>]}, 8: {'Polish Literature': [<__main__.Book object at 0x000001AD9BC457C0>, <__main__.Book object at 0x000001AD9ED20D30>, <__main__.Book object at 0x000001AD9C7BE4C0>], 'Erotica': [<__main__.Book object at 0x000001ADA6B58550>, <__main__.Book object at 0x000001ADA5033EB0>, <__main__.Book object at 0x000001AD9C3949D0>]}, 9: {'Spain': [<__main__.Book object at 0x000001ADA740C5E0>, <__main__.Book object at 0x000001AD9C825A30>, <__main__.Book object at 0x000001ADA7B15EB0>], 'College': [<__main__.Book object at 0x000001ADA5033EB0>, <__main__.Book object at 0x000001AD9EE2FF70>, <__main__.Book object at 0x000001ADA48EA9D0>]}, 10: {'Comedian': [<__main__.Book object at 0x000001AD9EF7D940>, <__main__.Book object at 0x000001AD9C380700>], '14th Century': [<__main__.Book object at 0x000001ADA4DC0730>, <__main__.Book object at 0x000001ADA7095EE0>, <__main__.Book object at 0x000001AD9C6DF220>]}, 11: {'Muslims': [<__main__.Book object at 0x000001AD9EF7D6A0>, <__main__.Book object at 0x000001AD9EFAC7F0>, <__main__.Book object at 0x000001AD9C736340>], 'Germany': [<__main__.Book object at 0x000001ADA46C67F0>, <__main__.Book object at 0x000001ADA4EBF130>, <__main__.Book object at 0x000001ADA47E3130>]}, 12: {'Greece': [<__main__.Book object at 0x000001ADADDBD0D0>, <__main__.Book object at 0x000001ADA701C640>, <__main__.Book object at 0x000001AD9CDACBB0>], 'Cities': [<__main__.Book object at 0x000001ADA7531910>, <__main__.Book object at 0x000001ADA7421430>, <__main__.Book object at 0x000001AD9C5B92B0>]}, 13: {'Russian Literature': [<__main__.Book object at 0x000001ADA746A820>, <__main__.Book object at 0x000001ADA7B85280>, <__main__.Book object at 0x000001ADA6D2F0D0>], 'Football': [<__main__.Book object at 0x000001AD9CC095E0>, <__main__.Book object at 0x000001AD9CE854F0>, <__main__.Book object at 0x000001AD9CEAC6A0>]}, 14: {'Nursery Rhymes': [<__main__.Book object at 0x000001AD9C23E8B0>, <__main__.Book object at 0x000001AD9C4D8F40>, <__main__.Book object at 0x000001ADA54E89A0>], 'Modern Classics': [<__main__.Book object at 0x000001ADA47AE940>, <__main__.Book object at 0x000001AD9C8C0F10>, <__main__.Book object at 0x000001ADA5025550>]}, 15: {'Latin American History': [<__main__.Book object at 0x000001AD9CA55760>, <__main__.Book object at 0x000001AD9C7BE610>, <__main__.Book object at 0x000001AD9EE2F040>], 'Quilting': [<__main__.Book object at 0x000001ADA4F0DAF0>, <__main__.Book object at 0x000001ADA375C100>, <__main__.Book object at 0x000001AD9CEC12B0>]}, 16: {'Thelema': [<__main__.Book object at 0x000001ADA76442E0>, <__main__.Book object at 0x000001ADA4D60130>, <__main__.Book object at 0x000001ADA6D2FB20>], 'Liberia': [<__main__.Book object at 0x000001ADA6A239D0>]}, 17: {'Scotland': [<__main__.Book object at 0x000001AD9D903DF0>, <__main__.Book object at 0x000001AD9A71BBB0>, <__main__.Book object at 0x000001ADA375C130>], 'Natural History': [<__main__.Book object at 0x000001AD9CE45190>, <__main__.Book object at 0x000001ADA75417F0>, <__main__.Book object at 0x000001ADA4F78A00>]}, 18: {'Time Travel': [<__main__.Book object at 0x000001AD9D903DF0>, <__main__.Book object at 0x000001AD9CE98C10>, <__main__.Book object at 0x000001AD9A71BBB0>], 'Zimbabwe': [<__main__.Book object at 0x000001AD9C7A7EB0>, <__main__.Book object at 0x000001AD9CA0DF40>, <__main__.Book object at 0x000001AD9C862D90>]}, 19: {'Personal Development': [<__main__.Book object at 0x000001ADADDBD1C0>, <__main__.Book object at 0x000001AD9CA99520>, <__main__.Book object at 0x000001ADA795FB20>], 'Anglo Saxon': [<__main__.Book object at 0x000001ADA7893910>, <__main__.Book object at 0x000001ADA46C6970>, <__main__.Book object at 0x000001ADA4A68760>]}, 20: {'Crime': [<__main__.Book object at 0x000001AD9C66CE80>, <__main__.Book object at 0x000001ADA4B685E0>, <__main__.Book object at 0x000001AD9EF7DBE0>], 'Photography': [<__main__.Book object at 0x000001ADADDBD220>, <__main__.Book object at 0x000001AD9ED200D0>, <__main__.Book object at 0x000001AD9D0BF5B0>]}}\n"
     ]
    }
   ],
   "source": [
    "dict_users = {}\n",
    "for user in sample_users:\n",
    "    packed_books = user.recommend_books_genre()\n",
    "    books = {genre: [book.data for book in packed_books[genre]] for genre in packed_books}\n",
    "    dict_users[user.id] = books\n",
    "    \n",
    "print(dict_users)"
=======
   "execution_count": 14,
   "metadata": {},
   "outputs": [],
   "source": [
    "dict_users = {user.id: None for user in sample_users}\n",
    "for user in sample_users:\n",
    "    packed_books = user.recommend_books_genre()\n",
    "    books = [[book.data for book in books] for books in list(packed_books.values())]\n",
    "    dict_users[user.id] = books\n",
    "\n"
>>>>>>> b226b4ca218f897a4b603a0b39fd0082b79a8479
   ]
  },
  {
   "attachments": {},
   "cell_type": "markdown",
   "metadata": {},
   "source": [
    "#### We will try to demonstrate some of our key methods for one user, then we will generalize for the whole __sample_users__ list"
   ]
  },
  {
   "cell_type": "code",
<<<<<<< HEAD
   "execution_count": 413,
   "metadata": {},
   "outputs": [],
   "source": [
    "#User number 0 appears to like the Victorian and Humor genres, let's add to their wishlist books from the victorian genre\n",
    "user0 = sample_users[0]\n",
    "\n",
    "for book in dict_users[user0.id]['Victorian']:\n",
    "    user0.add_to_wishlist(book)"
=======
   "execution_count": 15,
   "metadata": {},
   "outputs": [],
   "source": [
    "user0 = sample_users[0]\n",
    "user0.wishlist = Queue()\n",
    "user0.library = Queue()\n",
    "\n",
    "user0.add_to_wishlist(dict_users[user0.id][0])\n"
>>>>>>> b226b4ca218f897a4b603a0b39fd0082b79a8479
   ]
  },
  {
   "cell_type": "code",
<<<<<<< HEAD
   "execution_count": 414,
=======
   "execution_count": 16,
>>>>>>> b226b4ca218f897a4b603a0b39fd0082b79a8479
   "metadata": {},
   "outputs": [
    {
     "name": "stdout",
     "output_type": "stream",
     "text": [
      "the book Devil in Winter by Lisa Kleypas was added successfully to your library ... \n",
<<<<<<< HEAD
      "You have rated the book Devil in Winter by Lisa Kleypas: 5 ... \n",
      "the book Secrets of a Summer Night by Lisa Kleypas was added successfully to your library ... \n",
      "You have rated the book Secrets of a Summer Night by Lisa Kleypas: 4 ... \n",
      "the book Scandal in Spring by Lisa Kleypas was added successfully to your library ... \n",
      "You have rated the book Scandal in Spring by Lisa Kleypas: 0 ... \n"
=======
      "You have rated the book Devil in Winter by Lisa Kleypas: 2.5 ... \n",
      "the book Secrets of a Summer Night by Lisa Kleypas was added successfully to your library ... \n",
      "You have rated the book Secrets of a Summer Night by Lisa Kleypas: 3.5 ... \n",
      "the book Scandal in Spring by Lisa Kleypas was added successfully to your library ... \n",
      "You have rated the book Scandal in Spring by Lisa Kleypas: 4.5 ... \n"
>>>>>>> b226b4ca218f897a4b603a0b39fd0082b79a8479
     ]
    }
   ],
   "source": [
<<<<<<< HEAD
    "for book in user0.wishlist:\n",
    "    user0.read_book(book.data, random.randint(0, 5))"
=======
    "for book in dict_users[user0.id][0]:\n",
    "    user0.read_book(book, random.randint(0,5)\n",
    "\n"
>>>>>>> b226b4ca218f897a4b603a0b39fd0082b79a8479
   ]
  },
  {
   "attachments": {},
   "cell_type": "markdown",
   "metadata": {},
   "source": [
    "#### Now for the __sample_users__"
   ]
  },
  {
   "cell_type": "code",
<<<<<<< HEAD
   "execution_count": 415,
   "metadata": {},
   "outputs": [],
   "source": [
    "# first add books to each users' wishlist\n",
    "for user in sample_users:\n",
    "    books = [book for genre in dict_users[user.id] for book in dict_users[user.id][genre]]\n",
    "    for book in books:\n",
    "        user.add_to_wishlist(book)    "
   ]
  },
  {
   "cell_type": "code",
   "execution_count": 416,
=======
   "execution_count": 17,
>>>>>>> b226b4ca218f897a4b603a0b39fd0082b79a8479
   "metadata": {},
   "outputs": [
    {
     "name": "stdout",
     "output_type": "stream",
     "text": [
<<<<<<< HEAD
      "Octavia Schwartz : \n",
      "the book Devil in Winter by Lisa Kleypas was added successfully to your library ... \n",
      "You have rated the book Devil in Winter by Lisa Kleypas: 2 ... \n",
      "the book Secrets of a Summer Night by Lisa Kleypas was added successfully to your library ... \n",
      "You have rated the book Secrets of a Summer Night by Lisa Kleypas: 4 ... \n",
      "the book Scandal in Spring by Lisa Kleypas was added successfully to your library ... \n",
      "You have rated the book Scandal in Spring by Lisa Kleypas: 4 ... \n",
      "the book Devil in Winter by Lisa Kleypas was added successfully to your library ... \n",
      "You have rated the book Devil in Winter by Lisa Kleypas: 2 ... \n",
      "the book Secrets of a Summer Night by Lisa Kleypas was added successfully to your library ... \n",
      "You have rated the book Secrets of a Summer Night by Lisa Kleypas: 1 ... \n",
      "the book Scandal in Spring by Lisa Kleypas was added successfully to your library ... \n",
      "You have rated the book Scandal in Spring by Lisa Kleypas: 5 ... \n",
      "the book Is Everyone Hanging Out Without Me? (And Other Concerns) by Mindy Kaling was added successfully to your library ... \n",
      "You have rated the book Is Everyone Hanging Out Without Me? (And Other Concerns) by Mindy Kaling: 4 ... \n",
      "the book How the Grinch Stole Christmas! by Dr. Seuss was added successfully to your library ... \n",
      "You have rated the book How the Grinch Stole Christmas! by Dr. Seuss: 1 ... \n",
      "the book Dress Your Family in Corduroy and Denim by David Sedaris was added successfully to your library ... \n",
      "You have rated the book Dress Your Family in Corduroy and Denim by David Sedaris: 1 ... \n",
      "\n",
      "\n",
      "Edwin Preston : \n",
      "the book The Vagina Monologues by Eve Ensler,Gloria Steinem was added successfully to your library ... \n",
      "You have rated the book The Vagina Monologues by Eve Ensler,Gloria Steinem: 4 ... \n",
      "the book In a Different Voice: Psychological Theory and Women's Development by Carol Gilligan was added successfully to your library ... \n",
      "You have rated the book In a Different Voice: Psychological Theory and Women's Development by Carol Gilligan: 4 ... \n",
      "the book Against Our Will: Men, Women and Rape by Susan Brownmiller was added successfully to your library ... \n",
      "You have rated the book Against Our Will: Men, Women and Rape by Susan Brownmiller: 1 ... \n",
      "the book Steve Jobs by Walter Isaacson was added successfully to your library ... \n",
      "You have rated the book Steve Jobs by Walter Isaacson: 0 ... \n",
      "the book Thinking, Fast and Slow by Daniel Kahneman was added successfully to your library ... \n",
      "You have rated the book Thinking, Fast and Slow by Daniel Kahneman: 0 ... \n",
      "the book The Lean Startup: How Today's Entrepreneurs Use Continuous Innovation to Create Radically Successful Businesses by Eric Ries was added successfully to your library ... \n",
      "You have rated the book The Lean Startup: How Today's Entrepreneurs Use Continuous Innovation to Create Radically Successful Businesses by Eric Ries: 2 ... \n",
      "\n",
      "\n",
      "Indie Greer : \n",
      "the book African Rice Heart by Emily Star Wilkens was added successfully to your library ... \n",
      "You have rated the book African Rice Heart by Emily Star Wilkens: 4 ... \n",
      "the book CompaÃ±ero: The Life and Death of Che Guevara by Jorge G. CastaÃ±eda,Ø¨ÛŒÚ˜Ù† was added successfully to your library ... \n",
      "You have rated the book CompaÃ±ero: The Life and Death of Che Guevara by Jorge G. CastaÃ±eda,Ø¨ÛŒÚ˜Ù†: 2 ... \n",
      "the book I Am a Taxi by Deborah Ellis was added successfully to your library ... \n",
      "You have rated the book I Am a Taxi by Deborah Ellis: 3 ... \n",
      "the book Raza de bronce by Alcides Arguedas was added successfully to your library ... \n",
      "You have rated the book Raza de bronce by Alcides Arguedas: 1 ... \n",
      "\n",
      "\n",
      "Koda Lowe : \n",
      "the book The Time in Between by MarÃ­a DueÃ±as,Daniel Hahn was added successfully to your library ... \n",
      "You have rated the book The Time in Between by MarÃ­a DueÃ±as,Daniel Hahn: 3 ... \n",
      "the book Stolen Lives: Twenty Years in a Desert Jail by Malika Oufkir,MichÃ¨le Fitoussi was added successfully to your library ... \n",
      "You have rated the book Stolen Lives: Twenty Years in a Desert Jail by Malika Oufkir,MichÃ¨le Fitoussi: 1 ... \n",
      "the book In Morocco by Edith Wharton was added successfully to your library ... \n",
      "You have rated the book In Morocco by Edith Wharton: 4 ... \n",
      "the book The Mangrove Tree: Planting Trees to Feed Families by Susan L. Roth,Cindy Trumbore was added successfully to your library ... \n",
      "You have rated the book The Mangrove Tree: Planting Trees to Feed Families by Susan L. Roth,Cindy Trumbore: 2 ... \n",
      "the book Wounded Nation: How a Once Promising Eritrea Was Betrayed and Its Future Compromised by H. Selassie Bereket was added successfully to your library ... \n",
      "You have rated the book Wounded Nation: How a Once Promising Eritrea Was Betrayed and Its Future Compromised by H. Selassie Bereket: 4 ... \n",
      "\n",
      "\n",
      "Amari Felix : \n",
      "the book The Oxford Companion to Beer by Garrett Oliver,Tom Colicchio was added successfully to your library ... \n",
      "You have rated the book The Oxford Companion to Beer by Garrett Oliver,Tom Colicchio: 2 ... \n",
      "the book Brewing Better Beer: Master Lesson for Advanced Homeowners by Gordon  Strong was added successfully to your library ... \n",
      "You have rated the book Brewing Better Beer: Master Lesson for Advanced Homeowners by Gordon  Strong: 3 ... \n",
      "the book America Walks Into a Bar: A Spirited History of Taverns and Saloons, Speakeasies and Grog Shops by Christine Sismondo was added successfully to your library ... \n",
      "You have rated the book America Walks Into a Bar: A Spirited History of Taverns and Saloons, Speakeasies and Grog Shops by Christine Sismondo: 0 ... \n",
      "the book Clockwork Prince by Cassandra Clare was added successfully to your library ... \n",
      "You have rated the book Clockwork Prince by Cassandra Clare: 4 ... \n",
      "the book Silence by Becca Fitzpatrick was added successfully to your library ... \n",
      "You have rated the book Silence by Becca Fitzpatrick: 2 ... \n",
      "the book Masquerade by Melissa de la Cruz was added successfully to your library ... \n",
      "You have rated the book Masquerade by Melissa de la Cruz: 5 ... \n",
      "\n",
      "\n",
      "Rodney Whitaker : \n",
      "the book Boy21 by Matthew Quick was added successfully to your library ... \n",
      "You have rated the book Boy21 by Matthew Quick: 1 ... \n",
      "the book Sacred Hoops: Spiritual Lessons of a Hardwood Warrior by Phil Jackson,Hugh Delehanty was added successfully to your library ... \n",
      "You have rated the book Sacred Hoops: Spiritual Lessons of a Hardwood Warrior by Phil Jackson,Hugh Delehanty: 1 ... \n",
      "the book Shaq Uncut: Tall Tales and Untold Stories by Shaquille O'Neal,Jackie MacMullan was added successfully to your library ... \n",
      "You have rated the book Shaq Uncut: Tall Tales and Untold Stories by Shaquille O'Neal,Jackie MacMullan: 0 ... \n",
      "the book Summer Moon by Jill Marie Landis was added successfully to your library ... \n",
      "You have rated the book Summer Moon by Jill Marie Landis: 2 ... \n",
      "the book A Wild Yearning by Penelope Williamson was added successfully to your library ... \n",
      "You have rated the book A Wild Yearning by Penelope Williamson: 4 ... \n",
      "the book The Perfect Wife by Mary Burton was added successfully to your library ... \n",
      "You have rated the book The Perfect Wife by Mary Burton: 3 ... \n",
      "\n",
      "\n",
      "Ivanna Hebert : \n",
      "the book Hot Head by Damon Suede was added successfully to your library ... \n",
      "You have rated the book Hot Head by Damon Suede: 4 ... \n",
      "the book I Am Not Myself These Days by Josh Kilmer-Purcell was added successfully to your library ... \n",
      "You have rated the book I Am Not Myself These Days by Josh Kilmer-Purcell: 1 ... \n",
      "the book The Kid: What Happened After My Boyfriend and I Decided to Go Get Pregnant by Dan Savage was added successfully to your library ... \n",
      "You have rated the book The Kid: What Happened After My Boyfriend and I Decided to Go Get Pregnant by Dan Savage: 4 ... \n",
      "the book The Program by Suzanne Young was added successfully to your library ... \n",
      "You have rated the book The Program by Suzanne Young: 5 ... \n",
      "the book The Center Cannot Hold: My Journey Through Madness by Elyn R. Saks was added successfully to your library ... \n",
      "You have rated the book The Center Cannot Hold: My Journey Through Madness by Elyn R. Saks: 4 ... \n",
      "the book The Rules of Survival by Nancy Werlin was added successfully to your library ... \n",
      "You have rated the book The Rules of Survival by Nancy Werlin: 4 ... \n",
      "\n",
      "\n",
      "Guillermo Blanchard : \n",
      "the book The Thread by Victoria Hislop was added successfully to your library ... \n",
      "You have rated the book The Thread by Victoria Hislop: 4 ... \n",
=======
      "the book The Vagina Monologues by Eve Ensler,Gloria Steinem was added successfully to your library ... \n",
      "You have rated the book The Vagina Monologues by Eve Ensler,Gloria Steinem: 0 ... \n",
      "the book In a Different Voice: Psychological Theory and Women's Development by Carol Gilligan was added successfully to your library ... \n",
      "You have rated the book In a Different Voice: Psychological Theory and Women's Development by Carol Gilligan: 5 ... \n",
      "the book Against Our Will: Men, Women and Rape by Susan Brownmiller was added successfully to your library ... \n",
      "You have rated the book Against Our Will: Men, Women and Rape by Susan Brownmiller: 5 ... \n",
      "the book African Rice Heart by Emily Star Wilkens was added successfully to your library ... \n",
      "You have rated the book African Rice Heart by Emily Star Wilkens: 2 ... \n",
      "the book The Time in Between by MarÃ­a DueÃ±as,Daniel Hahn was added successfully to your library ... \n",
      "You have rated the book The Time in Between by MarÃ­a DueÃ±as,Daniel Hahn: 2 ... \n",
      "the book Stolen Lives: Twenty Years in a Desert Jail by Malika Oufkir,MichÃ¨le Fitoussi was added successfully to your library ... \n",
      "You have rated the book Stolen Lives: Twenty Years in a Desert Jail by Malika Oufkir,MichÃ¨le Fitoussi: 0 ... \n",
      "the book In Morocco by Edith Wharton was added successfully to your library ... \n",
      "You have rated the book In Morocco by Edith Wharton: 4 ... \n",
      "the book The Oxford Companion to Beer by Garrett Oliver,Tom Colicchio was added successfully to your library ... \n",
      "You have rated the book The Oxford Companion to Beer by Garrett Oliver,Tom Colicchio: 5 ... \n",
      "the book Brewing Better Beer: Master Lesson for Advanced Homeowners by Gordon  Strong was added successfully to your library ... \n",
      "You have rated the book Brewing Better Beer: Master Lesson for Advanced Homeowners by Gordon  Strong: 3 ... \n",
      "the book America Walks Into a Bar: A Spirited History of Taverns and Saloons, Speakeasies and Grog Shops by Christine Sismondo was added successfully to your library ... \n",
      "You have rated the book America Walks Into a Bar: A Spirited History of Taverns and Saloons, Speakeasies and Grog Shops by Christine Sismondo: 3 ... \n",
      "the book Boy21 by Matthew Quick was added successfully to your library ... \n",
      "You have rated the book Boy21 by Matthew Quick: 2 ... \n",
      "the book Sacred Hoops: Spiritual Lessons of a Hardwood Warrior by Phil Jackson,Hugh Delehanty was added successfully to your library ... \n",
      "You have rated the book Sacred Hoops: Spiritual Lessons of a Hardwood Warrior by Phil Jackson,Hugh Delehanty: 5 ... \n",
      "the book Shaq Uncut: Tall Tales and Untold Stories by Shaquille O'Neal,Jackie MacMullan was added successfully to your library ... \n",
      "You have rated the book Shaq Uncut: Tall Tales and Untold Stories by Shaquille O'Neal,Jackie MacMullan: 5 ... \n",
      "the book Hot Head by Damon Suede was added successfully to your library ... \n",
      "You have rated the book Hot Head by Damon Suede: 3 ... \n",
      "the book I Am Not Myself These Days by Josh Kilmer-Purcell was added successfully to your library ... \n",
      "You have rated the book I Am Not Myself These Days by Josh Kilmer-Purcell: 1 ... \n",
      "the book The Kid: What Happened After My Boyfriend and I Decided to Go Get Pregnant by Dan Savage was added successfully to your library ... \n",
      "You have rated the book The Kid: What Happened After My Boyfriend and I Decided to Go Get Pregnant by Dan Savage: 3 ... \n",
      "the book The Thread by Victoria Hislop was added successfully to your library ... \n",
      "You have rated the book The Thread by Victoria Hislop: 2 ... \n",
      "the book Helen of Troy by Margaret George was added successfully to your library ... \n",
      "You have rated the book Helen of Troy by Margaret George: 4 ... \n",
      "the book Persian Fire: The First World Empire and the Battle for the West by Tom Holland was added successfully to your library ... \n",
      "You have rated the book Persian Fire: The First World Empire and the Battle for the West by Tom Holland: 3 ... \n",
      "the book View with a Grain of Sand: Selected Poems by WisÅ‚awa Szymborska,StanisÅ‚aw BaraÅ„czak,Clare Cavanagh was added successfully to your library ... \n",
      "You have rated the book View with a Grain of Sand: Selected Poems by WisÅ‚awa Szymborska,StanisÅ‚aw BaraÅ„czak,Clare Cavanagh: 5 ... \n",
      "the book Achaja. Tom I by Andrzej ZiemiaÅ„ski was added successfully to your library ... \n",
      "You have rated the book Achaja. Tom I by Andrzej ZiemiaÅ„ski: 2 ... \n",
      "the book Another Day of Life by Ryszard KapuÅ›ciÅ„ski,Klara Glowczewska,Katarzyna Mroczkowska-Brand,William Brand was added successfully to your library ... \n",
      "You have rated the book Another Day of Life by Ryszard KapuÅ›ciÅ„ski,Klara Glowczewska,Katarzyna Mroczkowska-Brand,William Brand: 3 ... \n",
      "the book The Time in Between by MarÃ­a DueÃ±as,Daniel Hahn was added successfully to your library ... \n",
      "You have rated the book The Time in Between by MarÃ­a DueÃ±as,Daniel Hahn: 0 ... \n",
      "the book The Flanders Panel by Arturo PÃ©rez-Reverte,Margaret Jull Costa was added successfully to your library ... \n",
      "You have rated the book The Flanders Panel by Arturo PÃ©rez-Reverte,Margaret Jull Costa: 5 ... \n",
      "the book Leaving the Atocha Station by Ben Lerner was added successfully to your library ... \n",
      "You have rated the book Leaving the Atocha Station by Ben Lerner: 2 ... \n",
      "the book Life As I Blow It: Tales Of Love, Life & Sex . . . Not Necessarily In That Order by Sarah Colonna,Chelsea Handler was added successfully to your library ... \n",
      "You have rated the book Life As I Blow It: Tales Of Love, Life & Sex . . . Not Necessarily In That Order by Sarah Colonna,Chelsea Handler: 2 ... \n",
      "the book I'm Not Really Here by Tim Allen was added successfully to your library ... \n",
      "You have rated the book I'm Not Really Here by Tim Allen: 2 ... \n",
      "the book A Place Called Armageddon by C.C. Humphreys,Chris Humphreys was added successfully to your library ... \n",
      "You have rated the book A Place Called Armageddon by C.C. Humphreys,Chris Humphreys: 2 ... \n",
      "the book A Quiet Revolution: The Veil's Resurgence, from the Middle East to America by Leila Ahmed was added successfully to your library ... \n",
      "You have rated the book A Quiet Revolution: The Veil's Resurgence, from the Middle East to America by Leila Ahmed: 5 ... \n",
      "the book I Speak for Myself: American Women on Being Muslim by Maria M. Ebrahimji,Zahra T Suratwala was added successfully to your library ... \n",
      "You have rated the book I Speak for Myself: American Women on Being Muslim by Maria M. Ebrahimji,Zahra T Suratwala: 2 ... \n",
      "the book The Thread by Victoria Hislop was added successfully to your library ... \n",
      "You have rated the book The Thread by Victoria Hislop: 5 ... \n",
>>>>>>> b226b4ca218f897a4b603a0b39fd0082b79a8479
      "the book Helen of Troy by Margaret George was added successfully to your library ... \n",
      "You have rated the book Helen of Troy by Margaret George: 1 ... \n",
      "the book Persian Fire: The First World Empire and the Battle for the West by Tom Holland was added successfully to your library ... \n",
      "You have rated the book Persian Fire: The First World Empire and the Battle for the West by Tom Holland: 4 ... \n",
<<<<<<< HEAD
      "the book The Beast in the Garden: The True Story of a Predator's Deadly Return to Suburban America by David    Baron was added successfully to your library ... \n",
      "You have rated the book The Beast in the Garden: The True Story of a Predator's Deadly Return to Suburban America by David    Baron: 2 ... \n",
      "the book All the Water in the World by George Ella Lyon,Katherine Tillotson was added successfully to your library ... \n",
      "You have rated the book All the Water in the World by George Ella Lyon,Katherine Tillotson: 2 ... \n",
      "the book The Aye-Aye and I by Gerald Durrell was added successfully to your library ... \n",
      "You have rated the book The Aye-Aye and I by Gerald Durrell: 2 ... \n",
      "\n",
      "\n",
      "Layne Heath : \n",
      "the book View with a Grain of Sand: Selected Poems by WisÅ‚awa Szymborska,StanisÅ‚aw BaraÅ„czak,Clare Cavanagh was added successfully to your library ... \n",
      "You have rated the book View with a Grain of Sand: Selected Poems by WisÅ‚awa Szymborska,StanisÅ‚aw BaraÅ„czak,Clare Cavanagh: 1 ... \n",
      "the book Achaja. Tom I by Andrzej ZiemiaÅ„ski was added successfully to your library ... \n",
      "You have rated the book Achaja. Tom I by Andrzej ZiemiaÅ„ski: 5 ... \n",
      "the book Another Day of Life by Ryszard KapuÅ›ciÅ„ski,Klara Glowczewska,Katarzyna Mroczkowska-Brand,William Brand was added successfully to your library ... \n",
      "You have rated the book Another Day of Life by Ryszard KapuÅ›ciÅ„ski,Klara Glowczewska,Katarzyna Mroczkowska-Brand,William Brand: 5 ... \n",
      "the book Fifty Shades of Grey by E.L. James was added successfully to your library ... \n",
      "You have rated the book Fifty Shades of Grey by E.L. James: 4 ... \n",
      "the book Gabriel's Inferno by Sylvain Reynard was added successfully to your library ... \n",
      "You have rated the book Gabriel's Inferno by Sylvain Reynard: 2 ... \n",
      "the book Playing for Keeps by R.L. Mathewson was added successfully to your library ... \n",
      "You have rated the book Playing for Keeps by R.L. Mathewson: 4 ... \n",
      "\n",
      "\n",
      "Lionel Pope : \n",
      "the book The Time in Between by MarÃ­a DueÃ±as,Daniel Hahn was added successfully to your library ... \n",
      "You have rated the book The Time in Between by MarÃ­a DueÃ±as,Daniel Hahn: 5 ... \n",
      "the book The Flanders Panel by Arturo PÃ©rez-Reverte,Margaret Jull Costa was added successfully to your library ... \n",
      "You have rated the book The Flanders Panel by Arturo PÃ©rez-Reverte,Margaret Jull Costa: 2 ... \n",
      "the book Leaving the Atocha Station by Ben Lerner was added successfully to your library ... \n",
      "You have rated the book Leaving the Atocha Station by Ben Lerner: 2 ... \n",
      "the book Gabriel's Inferno by Sylvain Reynard was added successfully to your library ... \n",
      "You have rated the book Gabriel's Inferno by Sylvain Reynard: 4 ... \n",
      "the book Crimes of the Heart by Beth Henley was added successfully to your library ... \n",
      "You have rated the book Crimes of the Heart by Beth Henley: 2 ... \n",
      "the book Ã‰tica para Amador by Fernando Savater was added successfully to your library ... \n",
      "You have rated the book Ã‰tica para Amador by Fernando Savater: 5 ... \n",
      "\n",
      "\n",
      "Aurelia Wilkinson : \n",
      "the book Life As I Blow It: Tales Of Love, Life & Sex . . . Not Necessarily In That Order by Sarah Colonna,Chelsea Handler was added successfully to your library ... \n",
      "You have rated the book Life As I Blow It: Tales Of Love, Life & Sex . . . Not Necessarily In That Order by Sarah Colonna,Chelsea Handler: 0 ... \n",
      "the book I'm Not Really Here by Tim Allen was added successfully to your library ... \n",
      "You have rated the book I'm Not Really Here by Tim Allen: 3 ... \n",
      "the book La reina estrangulada by Maurice Druon was added successfully to your library ... \n",
      "You have rated the book La reina estrangulada by Maurice Druon: 4 ... \n",
      "the book The Riddle of St. Leonard's by Candace Robb was added successfully to your library ... \n",
      "You have rated the book The Riddle of St. Leonard's by Candace Robb: 0 ... \n",
      "the book A Bloody Field by Shrewsbury by Edith Pargeter was added successfully to your library ... \n",
      "You have rated the book A Bloody Field by Shrewsbury by Edith Pargeter: 2 ... \n",
      "\n",
      "\n",
      "Leonard Schroeder : \n",
      "the book A Place Called Armageddon by C.C. Humphreys,Chris Humphreys was added successfully to your library ... \n",
      "You have rated the book A Place Called Armageddon by C.C. Humphreys,Chris Humphreys: 1 ... \n",
      "the book A Quiet Revolution: The Veil's Resurgence, from the Middle East to America by Leila Ahmed was added successfully to your library ... \n",
      "You have rated the book A Quiet Revolution: The Veil's Resurgence, from the Middle East to America by Leila Ahmed: 0 ... \n",
      "the book I Speak for Myself: American Women on Being Muslim by Maria M. Ebrahimji,Zahra T Suratwala was added successfully to your library ... \n",
      "You have rated the book I Speak for Myself: American Women on Being Muslim by Maria M. Ebrahimji,Zahra T Suratwala: 1 ... \n",
      "the book The Reader by Bernhard Schlink,Carol Brown Janeway was added successfully to your library ... \n",
      "You have rated the book The Reader by Bernhard Schlink,Carol Brown Janeway: 4 ... \n",
      "the book Homo Faber by Max Frisch,Michael Bullock was added successfully to your library ... \n",
      "You have rated the book Homo Faber by Max Frisch,Michael Bullock: 5 ... \n",
      "the book Half Blood Blues by Esi Edugyan was added successfully to your library ... \n",
      "You have rated the book Half Blood Blues by Esi Edugyan: 3 ... \n",
      "\n",
      "\n",
      "Cameron Ellis : \n",
      "the book The Thread by Victoria Hislop was added successfully to your library ... \n",
      "You have rated the book The Thread by Victoria Hislop: 2 ... \n",
      "the book Helen of Troy by Margaret George was added successfully to your library ... \n",
      "You have rated the book Helen of Troy by Margaret George: 3 ... \n",
      "the book Persian Fire: The First World Empire and the Battle for the West by Tom Holland was added successfully to your library ... \n",
      "You have rated the book Persian Fire: The First World Empire and the Battle for the West by Tom Holland: 3 ... \n",
      "the book The Power Broker: Robert Moses and the Fall of New York by Robert A. Caro was added successfully to your library ... \n",
      "You have rated the book The Power Broker: Robert Moses and the Fall of New York by Robert A. Caro: 1 ... \n",
      "the book Here Is New York by E.B. White,Roger Angell,Barbara Cohen,Judith Stonehill was added successfully to your library ... \n",
      "You have rated the book Here Is New York by E.B. White,Roger Angell,Barbara Cohen,Judith Stonehill: 1 ... \n",
      "the book London: The Biography by Peter Ackroyd was added successfully to your library ... \n",
      "You have rated the book London: The Biography by Peter Ackroyd: 4 ... \n",
      "\n",
      "\n",
      "Cole Coffey : \n",
      "the book Heart of a Dog by Mikhail Bulgakov,Mirra Ginsburg was added successfully to your library ... \n",
      "You have rated the book Heart of a Dog by Mikhail Bulgakov,Mirra Ginsburg: 5 ... \n",
      "the book Golden Calf by Ilya Ilf,Yevgeny Petrov was added successfully to your library ... \n",
      "You have rated the book Golden Calf by Ilya Ilf,Yevgeny Petrov: 0 ... \n",
      "the book The Tale of Tsar Saltan by Alexander Pushkin,Gennady Spirin was added successfully to your library ... \n",
      "You have rated the book The Tale of Tsar Saltan by Alexander Pushkin,Gennady Spirin: 0 ... \n",
      "the book How Soccer Explains the World: An Unlikely Theory of Globalization by Franklin Foer was added successfully to your library ... \n",
      "You have rated the book How Soccer Explains the World: An Unlikely Theory of Globalization by Franklin Foer: 4 ... \n",
      "the book Football Genius by Tim Green was added successfully to your library ... \n",
      "You have rated the book Football Genius by Tim Green: 2 ... \n",
      "the book The Underdogs by Mike Lupica was added successfully to your library ... \n",
      "You have rated the book The Underdogs by Mike Lupica: 1 ... \n",
      "\n",
      "\n",
      "Paola Patel : \n",
      "the book The Real Mother Goose by Blanche Fisher Wright was added successfully to your library ... \n",
      "You have rated the book The Real Mother Goose by Blanche Fisher Wright: 2 ... \n",
      "the book Nursery Rhyme Comics: 50 Timeless Rhymes from 50 Celebrated Cartoonists by Chris Duffy,Leonard S. Marcus,Vanessa Davis,Eleanor Davis,Nick Abadzis,Richard    Thompson,James Sturm,Craig Thompson,Gahan Wilson,Drew Weing,Stan Sakai,Richard Sala,Roz Chast,Raina Telgemeier,Mike Mignola,Tao Nyeu,Mathew Forsythe,Cyril Pedrosa,Sara Varon,Laura Park,Marc Rosenthal,Patrick McDonnell,Jen Wang,Jordan Crane,Jaime HernÃ¡ndez,Lark Pien,George O'Connor,Dave Roman,Ben Hatke,Kate Beaton,Bob Flynn,Theo Ellsworth,Nick Bruel,Alexis Frederick-Fost,David Macaulay,Tony Millionaire,Mark Martin,Eric Orchard,Gilbert HernÃ¡ndez,Gene Luen Yang,Mo Oh,Mark  Siegel,Stephanie Yue,Lilli CarrÃ©,Rebecca Dart,Jules Feiffer,Lucy Knisley,J.P. Coovert,Aaron Renier,Vera Brosgol,Scott   Campbell was added successfully to your library ... \n",
      "You have rated the book Nursery Rhyme Comics: 50 Timeless Rhymes from 50 Celebrated Cartoonists by Chris Duffy,Leonard S. Marcus,Vanessa Davis,Eleanor Davis,Nick Abadzis,Richard    Thompson,James Sturm,Craig Thompson,Gahan Wilson,Drew Weing,Stan Sakai,Richard Sala,Roz Chast,Raina Telgemeier,Mike Mignola,Tao Nyeu,Mathew Forsythe,Cyril Pedrosa,Sara Varon,Laura Park,Marc Rosenthal,Patrick McDonnell,Jen Wang,Jordan Crane,Jaime HernÃ¡ndez,Lark Pien,George O'Connor,Dave Roman,Ben Hatke,Kate Beaton,Bob Flynn,Theo Ellsworth,Nick Bruel,Alexis Frederick-Fost,David Macaulay,Tony Millionaire,Mark Martin,Eric Orchard,Gilbert HernÃ¡ndez,Gene Luen Yang,Mo Oh,Mark  Siegel,Stephanie Yue,Lilli CarrÃ©,Rebecca Dart,Jules Feiffer,Lucy Knisley,J.P. Coovert,Aaron Renier,Vera Brosgol,Scott   Campbell: 3 ... \n",
      "the book The Itsy Bitsy Spider by Iza Trapani was added successfully to your library ... \n",
      "You have rated the book The Itsy Bitsy Spider by Iza Trapani: 0 ... \n",
      "the book South Riding by Winifred Holtby,Shirley Williams,Marion Shaw was added successfully to your library ... \n",
      "You have rated the book South Riding by Winifred Holtby,Shirley Williams,Marion Shaw: 5 ... \n",
      "the book The Fountain Overflows by Rebecca West,Andrea Barrett was added successfully to your library ... \n",
      "You have rated the book The Fountain Overflows by Rebecca West,Andrea Barrett: 3 ... \n",
      "the book The Victorian Chaise Longue by Marghanita Laski was added successfully to your library ... \n",
      "You have rated the book The Victorian Chaise Longue by Marghanita Laski: 5 ... \n",
      "\n",
      "\n",
      "Parker Cruz : \n",
      "the book The Conquest of New Spain by Bernal DÃ­az del Castillo,J.M. Cohen was added successfully to your library ... \n",
      "You have rated the book The Conquest of New Spain by Bernal DÃ­az del Castillo,J.M. Cohen: 1 ... \n",
      "the book Bitter Fruit: The Story of the American Coup in Guatemala by Stephen C. Schlesinger,Stephen Kinzer was added successfully to your library ... \n",
      "You have rated the book Bitter Fruit: The Story of the American Coup in Guatemala by Stephen C. Schlesinger,Stephen Kinzer: 1 ... \n",
      "the book CompaÃ±ero: The Life and Death of Che Guevara by Jorge G. CastaÃ±eda,Ø¨ÛŒÚ˜Ù† was added successfully to your library ... \n",
      "You have rated the book CompaÃ±ero: The Life and Death of Che Guevara by Jorge G. CastaÃ±eda,Ø¨ÛŒÚ˜Ù†: 3 ... \n",
      "the book Fool's Puzzle by Earlene Fowler was added successfully to your library ... \n",
      "You have rated the book Fool's Puzzle by Earlene Fowler: 3 ... \n",
      "the book The Wedding Quilt by Jennifer Chiaverini was added successfully to your library ... \n",
      "You have rated the book The Wedding Quilt by Jennifer Chiaverini: 0 ... \n",
      "the book Steps to the Altar by Earlene Fowler was added successfully to your library ... \n",
      "You have rated the book Steps to the Altar by Earlene Fowler: 0 ... \n",
      "\n",
      "\n",
      "Claire Pruitt : \n",
      "the book Aleister Crowley - The Biography: Spiritual Revolutionary, Romantic Explorer, Occult Master and Spy by Tobias Churton was added successfully to your library ... \n",
      "You have rated the book Aleister Crowley - The Biography: Spiritual Revolutionary, Romantic Explorer, Occult Master and Spy by Tobias Churton: 2 ... \n",
      "the book Ask Baba Lon: Answers to Questions of Life and Magick by Lon Milo DuQuette,David Cherubim,Constance Jean DuQuette was added successfully to your library ... \n",
      "You have rated the book Ask Baba Lon: Answers to Questions of Life and Magick by Lon Milo DuQuette,David Cherubim,Constance Jean DuQuette: 5 ... \n",
      "the book Aleister Crowley   Revolt Of The Magicians: A Novel by Lon Milo DuQuette,James M. Bratkowsky was added successfully to your library ... \n",
      "You have rated the book Aleister Crowley   Revolt Of The Magicians: A Novel by Lon Milo DuQuette,James M. Bratkowsky: 3 ... \n",
      "the book And Still Peace Did Not Come: A Memoir of Reconciliation by Agnes Kamara-umunna,Emily Holland was added successfully to your library ... \n",
      "You have rated the book And Still Peace Did Not Come: A Memoir of Reconciliation by Agnes Kamara-umunna,Emily Holland: 0 ... \n",
      "\n",
      "\n",
      "Gatlin Lozano : \n",
      "the book Outlander by Diana Gabaldon was added successfully to your library ... \n",
      "You have rated the book Outlander by Diana Gabaldon: 2 ... \n",
      "the book Voyager by Diana Gabaldon was added successfully to your library ... \n",
      "You have rated the book Voyager by Diana Gabaldon: 2 ... \n",
      "the book The Bride by Julie Garwood was added successfully to your library ... \n",
      "You have rated the book The Bride by Julie Garwood: 2 ... \n",
      "the book Life on Earth by David Attenborough was added successfully to your library ... \n",
      "You have rated the book Life on Earth by David Attenborough: 2 ... \n",
      "the book The Peregrine by J.A. Baker was added successfully to your library ... \n",
      "You have rated the book The Peregrine by J.A. Baker: 0 ... \n",
      "the book Cabinet of Natural Curiosities: The Complete Plates in Colour, 1734-1763 by Albertus Seba was added successfully to your library ... \n",
      "You have rated the book Cabinet of Natural Curiosities: The Complete Plates in Colour, 1734-1763 by Albertus Seba: 0 ... \n",
      "\n",
      "\n",
      "Cecelia Wilkinson : \n",
      "the book Outlander by Diana Gabaldon was added successfully to your library ... \n",
      "You have rated the book Outlander by Diana Gabaldon: 5 ... \n",
      "the book 11/22/63 by Stephen King was added successfully to your library ... \n",
      "You have rated the book 11/22/63 by Stephen King: 1 ... \n",
      "the book Voyager by Diana Gabaldon was added successfully to your library ... \n",
      "You have rated the book Voyager by Diana Gabaldon: 2 ... \n",
      "the book Cocktail Hour Under the Tree of Forgetfulness by Alexandra Fuller was added successfully to your library ... \n",
      "You have rated the book Cocktail Hour Under the Tree of Forgetfulness by Alexandra Fuller: 5 ... \n",
      "the book Rainbow's End: A Memoir of Childhood, War and an African Farm by Lauren St. John was added successfully to your library ... \n",
      "You have rated the book Rainbow's End: A Memoir of Childhood, War and an African Farm by Lauren St. John: 4 ... \n",
      "the book The Book of Not by Tsitsi Dangarembga was added successfully to your library ... \n",
      "You have rated the book The Book of Not by Tsitsi Dangarembga: 2 ... \n",
      "\n",
      "\n",
      "Leonard Bravo : \n",
      "the book Thinking, Fast and Slow by Daniel Kahneman was added successfully to your library ... \n",
      "You have rated the book Thinking, Fast and Slow by Daniel Kahneman: 5 ... \n",
      "the book The Richest Man in Babylon by George S. Clason was added successfully to your library ... \n",
      "You have rated the book The Richest Man in Babylon by George S. Clason: 5 ... \n",
      "the book The Intelligent Investor by Benjamin Graham,Jason Zweig,Warren Buffett was added successfully to your library ... \n",
      "You have rated the book The Intelligent Investor by Benjamin Graham,Jason Zweig,Warren Buffett: 0 ... \n",
      "the book Hereward by James Wilde was added successfully to your library ... \n",
      "You have rated the book Hereward by James Wilde: 0 ... \n",
      "the book Conquest by Stewart Binns was added successfully to your library ... \n",
      "You have rated the book Conquest by Stewart Binns: 2 ... \n",
      "the book Britain after Rome: The Fall and Rise, 400 to 1070 by Robin Fleming was added successfully to your library ... \n",
      "You have rated the book Britain after Rome: The Fall and Rise, 400 to 1070 by Robin Fleming: 5 ... \n",
      "\n",
      "\n",
      "Amoura Moran : \n",
      "the book Misery by Stephen King was added successfully to your library ... \n",
      "You have rated the book Misery by Stephen King: 5 ... \n",
      "the book A Study in Scarlet by Arthur Conan Doyle was added successfully to your library ... \n",
      "You have rated the book A Study in Scarlet by Arthur Conan Doyle: 5 ... \n",
      "the book Defending Jacob by William Landay was added successfully to your library ... \n",
      "You have rated the book Defending Jacob by William Landay: 2 ... \n",
      "the book Wall and Piece by Banksy was added successfully to your library ... \n",
      "You have rated the book Wall and Piece by Banksy: 1 ... \n",
      "the book It Chooses You by Miranda July,Brigitte Sire was added successfully to your library ... \n",
      "You have rated the book It Chooses You by Miranda July,Brigitte Sire: 3 ... \n",
      "the book Street Photographer by Vivian Maier,John Maloof,Geoff Dyer was added successfully to your library ... \n",
      "You have rated the book Street Photographer by Vivian Maier,John Maloof,Geoff Dyer: 1 ... \n",
      "\n",
      "\n"
=======
      "the book Heart of a Dog by Mikhail Bulgakov,Mirra Ginsburg was added successfully to your library ... \n",
      "You have rated the book Heart of a Dog by Mikhail Bulgakov,Mirra Ginsburg: 5 ... \n",
      "the book Golden Calf by Ilya Ilf,Yevgeny Petrov was added successfully to your library ... \n",
      "You have rated the book Golden Calf by Ilya Ilf,Yevgeny Petrov: 1 ... \n",
      "the book The Tale of Tsar Saltan by Alexander Pushkin,Gennady Spirin was added successfully to your library ... \n",
      "You have rated the book The Tale of Tsar Saltan by Alexander Pushkin,Gennady Spirin: 0 ... \n",
      "the book The Real Mother Goose by Blanche Fisher Wright was added successfully to your library ... \n",
      "You have rated the book The Real Mother Goose by Blanche Fisher Wright: 1 ... \n",
      "the book Nursery Rhyme Comics: 50 Timeless Rhymes from 50 Celebrated Cartoonists by Chris Duffy,Leonard S. Marcus,Vanessa Davis,Eleanor Davis,Nick Abadzis,Richard    Thompson,James Sturm,Craig Thompson,Gahan Wilson,Drew Weing,Stan Sakai,Richard Sala,Roz Chast,Raina Telgemeier,Mike Mignola,Tao Nyeu,Mathew Forsythe,Cyril Pedrosa,Sara Varon,Laura Park,Marc Rosenthal,Patrick McDonnell,Jen Wang,Jordan Crane,Jaime HernÃ¡ndez,Lark Pien,George O'Connor,Dave Roman,Ben Hatke,Kate Beaton,Bob Flynn,Theo Ellsworth,Nick Bruel,Alexis Frederick-Fost,David Macaulay,Tony Millionaire,Mark Martin,Eric Orchard,Gilbert HernÃ¡ndez,Gene Luen Yang,Mo Oh,Mark  Siegel,Stephanie Yue,Lilli CarrÃ©,Rebecca Dart,Jules Feiffer,Lucy Knisley,J.P. Coovert,Aaron Renier,Vera Brosgol,Scott   Campbell was added successfully to your library ... \n",
      "You have rated the book Nursery Rhyme Comics: 50 Timeless Rhymes from 50 Celebrated Cartoonists by Chris Duffy,Leonard S. Marcus,Vanessa Davis,Eleanor Davis,Nick Abadzis,Richard    Thompson,James Sturm,Craig Thompson,Gahan Wilson,Drew Weing,Stan Sakai,Richard Sala,Roz Chast,Raina Telgemeier,Mike Mignola,Tao Nyeu,Mathew Forsythe,Cyril Pedrosa,Sara Varon,Laura Park,Marc Rosenthal,Patrick McDonnell,Jen Wang,Jordan Crane,Jaime HernÃ¡ndez,Lark Pien,George O'Connor,Dave Roman,Ben Hatke,Kate Beaton,Bob Flynn,Theo Ellsworth,Nick Bruel,Alexis Frederick-Fost,David Macaulay,Tony Millionaire,Mark Martin,Eric Orchard,Gilbert HernÃ¡ndez,Gene Luen Yang,Mo Oh,Mark  Siegel,Stephanie Yue,Lilli CarrÃ©,Rebecca Dart,Jules Feiffer,Lucy Knisley,J.P. Coovert,Aaron Renier,Vera Brosgol,Scott   Campbell: 1 ... \n",
      "the book The Itsy Bitsy Spider by Iza Trapani was added successfully to your library ... \n",
      "You have rated the book The Itsy Bitsy Spider by Iza Trapani: 3 ... \n",
      "the book The Conquest of New Spain by Bernal DÃ­az del Castillo,J.M. Cohen was added successfully to your library ... \n",
      "You have rated the book The Conquest of New Spain by Bernal DÃ­az del Castillo,J.M. Cohen: 0 ... \n",
      "the book Bitter Fruit: The Story of the American Coup in Guatemala by Stephen C. Schlesinger,Stephen Kinzer was added successfully to your library ... \n",
      "You have rated the book Bitter Fruit: The Story of the American Coup in Guatemala by Stephen C. Schlesinger,Stephen Kinzer: 1 ... \n",
      "the book CompaÃ±ero: The Life and Death of Che Guevara by Jorge G. CastaÃ±eda,Ø¨ÛŒÚ˜Ù† was added successfully to your library ... \n",
      "You have rated the book CompaÃ±ero: The Life and Death of Che Guevara by Jorge G. CastaÃ±eda,Ø¨ÛŒÚ˜Ù†: 1 ... \n",
      "the book Aleister Crowley - The Biography: Spiritual Revolutionary, Romantic Explorer, Occult Master and Spy by Tobias Churton was added successfully to your library ... \n",
      "You have rated the book Aleister Crowley - The Biography: Spiritual Revolutionary, Romantic Explorer, Occult Master and Spy by Tobias Churton: 4 ... \n",
      "the book Ask Baba Lon: Answers to Questions of Life and Magick by Lon Milo DuQuette,David Cherubim,Constance Jean DuQuette was added successfully to your library ... \n",
      "You have rated the book Ask Baba Lon: Answers to Questions of Life and Magick by Lon Milo DuQuette,David Cherubim,Constance Jean DuQuette: 2 ... \n",
      "the book Aleister Crowley   Revolt Of The Magicians: A Novel by Lon Milo DuQuette,James M. Bratkowsky was added successfully to your library ... \n",
      "You have rated the book Aleister Crowley   Revolt Of The Magicians: A Novel by Lon Milo DuQuette,James M. Bratkowsky: 0 ... \n",
      "the book Outlander by Diana Gabaldon was added successfully to your library ... \n",
      "You have rated the book Outlander by Diana Gabaldon: 4 ... \n",
      "the book Voyager by Diana Gabaldon was added successfully to your library ... \n",
      "You have rated the book Voyager by Diana Gabaldon: 0 ... \n",
      "the book The Bride by Julie Garwood was added successfully to your library ... \n",
      "You have rated the book The Bride by Julie Garwood: 1 ... \n",
      "the book Outlander by Diana Gabaldon was added successfully to your library ... \n",
      "You have rated the book Outlander by Diana Gabaldon: 3 ... \n",
      "the book 11/22/63 by Stephen King was added successfully to your library ... \n",
      "You have rated the book 11/22/63 by Stephen King: 5 ... \n",
      "the book Voyager by Diana Gabaldon was added successfully to your library ... \n",
      "You have rated the book Voyager by Diana Gabaldon: 4 ... \n",
      "the book Thinking, Fast and Slow by Daniel Kahneman was added successfully to your library ... \n",
      "You have rated the book Thinking, Fast and Slow by Daniel Kahneman: 2 ... \n",
      "the book The Richest Man in Babylon by George S. Clason was added successfully to your library ... \n",
      "You have rated the book The Richest Man in Babylon by George S. Clason: 0 ... \n",
      "the book The Intelligent Investor by Benjamin Graham,Jason Zweig,Warren Buffett was added successfully to your library ... \n",
      "You have rated the book The Intelligent Investor by Benjamin Graham,Jason Zweig,Warren Buffett: 1 ... \n",
      "the book Misery by Stephen King was added successfully to your library ... \n",
      "You have rated the book Misery by Stephen King: 1 ... \n",
      "the book A Study in Scarlet by Arthur Conan Doyle was added successfully to your library ... \n",
      "You have rated the book A Study in Scarlet by Arthur Conan Doyle: 3 ... \n",
      "the book Defending Jacob by William Landay was added successfully to your library ... \n",
      "You have rated the book Defending Jacob by William Landay: 3 ... \n"
>>>>>>> b226b4ca218f897a4b603a0b39fd0082b79a8479
     ]
    }
   ],
   "source": [
<<<<<<< HEAD
    "# read and rate books\n",
    "for user in sample_users:\n",
    "    print(user.name, \": \")\n",
    "    for book in user.wishlist:\n",
    "        user.read_book(book.data, random.randint(0, 5))\n",
    "    print(\"\\n\")"
   ]
  },
  {
   "attachments": {},
   "cell_type": "markdown",
   "metadata": {},
   "source": [
    "#### Let's try the <b>content based recommendation system </b>"
=======
    "import random\n",
    "for user in sample_users[1:]:\n",
    "        \n",
    "    user.add_to_wishlist(dict_users[user.id][0])\n",
    "\n",
    "    for book in dict_users[user.id][0]:\n",
    "        user.read_book(book, random.randint(0, 5))\n"
>>>>>>> b226b4ca218f897a4b603a0b39fd0082b79a8479
   ]
  },
  {
   "cell_type": "code",
<<<<<<< HEAD
   "execution_count": 417,
=======
   "execution_count": 18,
>>>>>>> b226b4ca218f897a4b603a0b39fd0082b79a8479
   "metadata": {},
   "outputs": [],
   "source": [
    "number = random.randint(0, 21)\n",
    "\n",
    "random_user = sample_users[number]\n",
    "\n",
    "recs = random_user.recommend_books()"
   ]
  },
  {
   "cell_type": "code",
<<<<<<< HEAD
   "execution_count": 418,
=======
   "execution_count": 19,
>>>>>>> b226b4ca218f897a4b603a0b39fd0082b79a8479
   "metadata": {},
   "outputs": [
    {
     "name": "stdout",
     "output_type": "stream",
     "text": [
<<<<<<< HEAD
      "The user Edwin Preston with favorite genres: Gender Studies, Business. will probably enjoy these books:\n",
      " I Want My MTV: The Uncensored Story of the Music Video Revolution, Dave Barry's Complete Guide to Guys, In a Different Voice: Psychological Theory and Women's Development, Against Our Will: Men, Women and Rape, Mind Over Mood: Change How You Feel By Changing the Way You Think, Daniels' Running Formula, Harry Potter and History., The Vagina Monologues..\n"
=======
      "True History of the Kelly Gang, Carrion Comfort, Mercy, The Mortal Instruments, The Flanders Panel, Parce que je t'aime, The Little Coffee Shop of Kabul, Blue Monday, The Jefferson Key, N or M?, , \n"
>>>>>>> b226b4ca218f897a4b603a0b39fd0082b79a8479
     ]
    }
   ],
   "source": [
<<<<<<< HEAD
    "print(f\"The user {random_user.name} with favorite genres: {random_user.fav_genres} will probably enjoy these books:\\n {recs}\")"
=======
    "print(recs)"
>>>>>>> b226b4ca218f897a4b603a0b39fd0082b79a8479
   ]
  },
  {
   "cell_type": "code",
<<<<<<< HEAD
   "execution_count": 419,
   "metadata": {},
   "outputs": [
    {
     "data": {
      "text/plain": [
       "'nonfiction'"
      ]
     },
     "execution_count": 419,
     "metadata": {},
     "output_type": "execute_result"
    }
   ],
   "source": [
    "random_user.most_checked_genre()"
   ]
  },
  {
   "attachments": {},
   "cell_type": "markdown",
   "metadata": {},
   "source": [
    "#### Now for the <b>collaborative filtering recommendation system </b>"
   ]
  },
  {
   "cell_type": "code",
   "execution_count": 420,
=======
   "execution_count": 20,
>>>>>>> b226b4ca218f897a4b603a0b39fd0082b79a8479
   "metadata": {},
   "outputs": [
    {
     "name": "stdout",
     "output_type": "stream",
     "text": [
<<<<<<< HEAD
      "Edwin Preston with id: 1 was added successfully to your Reader Community !\n",
      "Layne Heath with id: 8 was added successfully to your Reader Community !\n",
      "Lionel Pope with id: 9 was added successfully to your Reader Community !\n",
      "Leonard Schroeder with id: 11 was added successfully to your Reader Community !\n",
      "Cole Coffey with id: 13 was added successfully to your Reader Community !\n",
      "Paola Patel with id: 14 was added successfully to your Reader Community !\n",
      "Leonard Bravo with id: 19 was added successfully to your Reader Community !\n",
=======
>>>>>>> b226b4ca218f897a4b603a0b39fd0082b79a8479
      "Amoura Moran with id: 20 was added successfully to your Reader Community !\n"
     ]
    }
   ],
   "source": [
    "random_user.add_community(sample_users)"
   ]
  },
  {
   "cell_type": "code",
<<<<<<< HEAD
   "execution_count": 421,
=======
   "execution_count": 21,
>>>>>>> b226b4ca218f897a4b603a0b39fd0082b79a8479
   "metadata": {},
   "outputs": [
    {
     "name": "stdout",
     "output_type": "stream",
     "text": [
<<<<<<< HEAD
      "Playing for Keeps by R.L. Mathewson\n",
      "Fifty Shades of Grey by E.L. James\n",
      "Another Day of Life by Ryszard KapuÅ›ciÅ„ski,Klara Glowczewska,Katarzyna Mroczkowska-Brand,William Brand\n",
      "Achaja. Tom I by Andrzej ZiemiaÅ„ski\n",
      "Ã‰tica para Amador by Fernando Savater\n",
      "Gabriel's Inferno by Sylvain Reynard\n",
      "The Time in Between by MarÃ­a DueÃ±as,Daniel Hahn\n",
      "Half Blood Blues by Esi Edugyan\n",
      "Homo Faber by Max Frisch,Michael Bullock\n",
      "The Reader by Bernhard Schlink,Carol Brown Janeway\n",
      "How Soccer Explains the World: An Unlikely Theory of Globalization by Franklin Foer\n",
      "Heart of a Dog by Mikhail Bulgakov,Mirra Ginsburg\n",
      "The Victorian Chaise Longue by Marghanita Laski\n",
      "The Fountain Overflows by Rebecca West,Andrea Barrett\n",
      "South Riding by Winifred Holtby,Shirley Williams,Marion Shaw\n",
      "Nursery Rhyme Comics: 50 Timeless Rhymes from 50 Celebrated Cartoonists by Chris Duffy,Leonard S. Marcus,Vanessa Davis,Eleanor Davis,Nick Abadzis,Richard    Thompson,James Sturm,Craig Thompson,Gahan Wilson,Drew Weing,Stan Sakai,Richard Sala,Roz Chast,Raina Telgemeier,Mike Mignola,Tao Nyeu,Mathew Forsythe,Cyril Pedrosa,Sara Varon,Laura Park,Marc Rosenthal,Patrick McDonnell,Jen Wang,Jordan Crane,Jaime HernÃ¡ndez,Lark Pien,George O'Connor,Dave Roman,Ben Hatke,Kate Beaton,Bob Flynn,Theo Ellsworth,Nick Bruel,Alexis Frederick-Fost,David Macaulay,Tony Millionaire,Mark Martin,Eric Orchard,Gilbert HernÃ¡ndez,Gene Luen Yang,Mo Oh,Mark  Siegel,Stephanie Yue,Lilli CarrÃ©,Rebecca Dart,Jules Feiffer,Lucy Knisley,J.P. Coovert,Aaron Renier,Vera Brosgol,Scott   Campbell\n",
      "Britain after Rome: The Fall and Rise, 400 to 1070 by Robin Fleming\n",
      "The Richest Man in Babylon by George S. Clason\n",
      "It Chooses You by Miranda July,Brigitte Sire\n",
      "A Study in Scarlet by Arthur Conan Doyle\n",
      "Misery by Stephen King\n"
=======
      "\n"
>>>>>>> b226b4ca218f897a4b603a0b39fd0082b79a8479
     ]
    }
   ],
   "source": [
<<<<<<< HEAD
    "recs = random_user.recommend_other_users()\n",
    "for book in recs:\n",
    "    print(book)"
=======
    "print(random_user.recommend_other_users())"
>>>>>>> b226b4ca218f897a4b603a0b39fd0082b79a8479
   ]
  }
 ],
 "metadata": {
  "kernelspec": {
   "display_name": "Python 3",
   "language": "python",
   "name": "python3"
  },
  "language_info": {
   "codemirror_mode": {
    "name": "ipython",
    "version": 3
   },
   "file_extension": ".py",
   "mimetype": "text/x-python",
   "name": "python",
   "nbconvert_exporter": "python",
   "pygments_lexer": "ipython3",
   "version": "3.8.8"
  },
  "orig_nbformat": 4
 },
 "nbformat": 4,
 "nbformat_minor": 2
}
