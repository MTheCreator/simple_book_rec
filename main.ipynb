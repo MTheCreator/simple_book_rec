{
 "cells": [
  {
   "attachments": {},
   "cell_type": "markdown",
   "metadata": {},
   "source": [
    "# A Simple Book Recommendation System\n",
    "\n",
    "###### Done by __Safae HAJJOUT (@Ariyes)__ and __Mounia BADDOU (@MTheCreator)__ for Algorithmics class of 2022 / 2023.\n",
    "###### Mohammed VI Polytechnic University, School of Computer Science, 1st year.\n"
   ]
  },
  {
   "attachments": {},
   "cell_type": "markdown",
   "metadata": {},
   "source": [
    "### ______________________________"
   ]
  },
  {
   "attachments": {},
   "cell_type": "markdown",
   "metadata": {},
   "source": [
    "##### This is a walkthrough of our simple recommendation system implemented using Python 3.10 and primitive data structures such as Linked lists, Arrays and some Python structures (Lists, Dictionaries, ... ).\n",
    "\n",
    "##### The goal of this recommender system is to try and give the most acurate recommendations based on multiple criterias: titles, ratings, genres, description and others. We tried to make use also of some libraries to ease the recommedation process that is related to natural language (NLP).\n",
    "\n",
    "#### Now we will go through the purpose of every chunk of code. Good reading :) ."
   ]
  },
  {
   "attachments": {},
   "cell_type": "markdown",
   "metadata": {},
   "source": [
    "### _____________________________"
   ]
  },
  {
   "attachments": {},
   "cell_type": "markdown",
   "metadata": {},
   "source": [
    "#### __First import what is needed !__"
   ]
  },
  {
   "cell_type": "code",
   "execution_count": 1,
   "metadata": {},
   "outputs": [],
   "source": [
    "# Here can be downloaded every needed library for our code!\n",
    "#! pip install --upgrade click\n",
    "#! pip intall nltk\n",
    "#! pip install spacy\n",
    "#! python -m spacy download en_core_web_sm\n",
    "#! python -m spacy download en\n",
    "#! pip install json"
   ]
  },
  {
   "cell_type": "code",
   "execution_count": 2,
   "metadata": {},
   "outputs": [
    {
     "name": "stderr",
     "output_type": "stream",
     "text": [
      "[nltk_data] Downloading package punkt to\n",
      "[nltk_data]     C:\\Users\\hp\\AppData\\Roaming\\nltk_data...\n",
      "[nltk_data]   Package punkt is already up-to-date!\n",
      "[nltk_data] Downloading package stopwords to\n",
      "[nltk_data]     C:\\Users\\hp\\AppData\\Roaming\\nltk_data...\n",
      "[nltk_data]   Package stopwords is already up-to-date!\n"
     ]
    }
   ],
   "source": [
    "from usefulclasses import Node, LinkedList, Queue, heapsort\n",
    "import json\n",
    "import nltk\n",
    "from nltk.corpus import stopwords\n",
    "from nltk.stem import PorterStemmer\n",
    "nltk.download(\"punkt\")\n",
    "nltk.download('stopwords')\n",
    "\n",
    "from errors import *\n",
    "import spacy\n",
    "nlp = spacy.load(\"en_core_web_sm\")"
   ]
  },
  {
   "attachments": {},
   "cell_type": "markdown",
   "metadata": {},
   "source": [
    "#### We will be using the __Porter stemming algorithm__ to facilitate recommendation"
   ]
  },
  {
   "cell_type": "code",
   "execution_count": 3,
   "metadata": {},
   "outputs": [],
   "source": [
    "stopwords_set = set(stopwords.words('english'))\n",
    "ps = PorterStemmer()"
   ]
  },
  {
   "attachments": {},
   "cell_type": "markdown",
   "metadata": {},
   "source": [
    "#### _______________________________"
   ]
  },
  {
   "attachments": {},
   "cell_type": "markdown",
   "metadata": {},
   "source": [
    "#### We can now load our book and user related data"
   ]
  },
  {
   "cell_type": "code",
   "execution_count": 4,
   "metadata": {},
   "outputs": [],
   "source": [
    "with open('books.json') as file:\n",
    "    books = json.load(file)\n",
    "file.close()\n",
    "    \n",
    "with open('users.json') as file:\n",
    "    users = json.load(file)\n",
    "file.close()"
   ]
  },
  {
   "attachments": {},
   "cell_type": "markdown",
   "metadata": {},
   "source": [
    "#### _________________________________"
   ]
  },
  {
   "attachments": {},
   "cell_type": "markdown",
   "metadata": {},
   "source": [
    "## __Book Class__\n",
    "\n",
    "##### One of our main classes, contains every valuable information on every book in our dataset in the shape of attributes (author, desc, title, ... ).\n",
    "##### This class also contains two methods: __str__ and __similar_books__. One serves as a display function, and the other one as a recommendation method based on ranking given by our users.\n",
    "##### More informations in our docstrings!"
   ]
  },
  {
   "cell_type": "code",
   "execution_count": 5,
   "metadata": {},
   "outputs": [],
   "source": [
    "class Book:\n",
    "    def __init__(self, author: str, desc: str, genre: list, isbn: str, pages: int, rating: float, title: str, totalratings: int):\n",
    "        \"\"\" \n",
    "        Initializes a Book object with the provided details.\n",
    "\n",
    "            Args:\n",
    "                author (str): The author of the book.\n",
    "                desc (str): A short description of the content of the book.\n",
    "                genre (list): A list of genres that the book belongs to.\n",
    "                isbn (str): The ID of the book.\n",
    "                pages (int): The number of pages in the book.\n",
    "                rating (float): The overall rating of the book on a scale of 0 to 5.\n",
    "                title (str): The title of the book.\n",
    "                totalratings (int): The total number of ratings given to the book.\n",
    "\n",
    "            Returns:\n",
    "                None\n",
    "        \"\"\"\n",
    "        verify_book(author= author, desc= desc, genre= genre, isbn= isbn, rating= rating, total_ratings= totalratings, title= title)\n",
    "        self.author = author                    \n",
    "        self.desc = desc                        \n",
    "        self.genre = genre                      \n",
    "        self.isbn = isbn                        \n",
    "        self.pages = pages                      \n",
    "        self.rating = rating\n",
    "        self.title = title \n",
    "        self.totalratings = totalratings      \n",
    "        self.rate = self.rating * self.totalratings \n",
    "        \n",
    "    def __str__(self):\n",
    "        \"\"\" A display method where the __str__ function was overridden to meet the needs of our recommendation system. \"\"\"\n",
    "        return self.title + \" by \" + self.author"
   ]
  },
  {
   "attachments": {},
   "cell_type": "markdown",
   "metadata": {},
   "source": [
    "##### In this following chunk of code, we tried to sort our database of Book objects in a Python list using a heapsort to ease our recommendation based on ratings. \n",
    "##### The return will be the index, which will represent the rank of the book."
   ]
  },
  {
   "cell_type": "code",
   "execution_count": 6,
   "metadata": {},
   "outputs": [],
   "source": [
    "def create_books_list():\n",
    "    \"\"\"\n",
    "    Creates a list of Book objects from the provided books data.\n",
    "\n",
    "    Returns:\n",
    "        list: A list of Book objects sorted in non-increasing order based on their ratings and total ratings.\n",
    "\n",
    "    \"\"\"\n",
    "    books_list = []\n",
    "    for book in books:\n",
    "        author, desc, genre, isbn, pages, rating, title, totalratings = list(book.values())\n",
    "        obj = Book(author, desc, list({g.lower() for g in genre.split(',')}), isbn, pages, rating, title, totalratings)\n",
    "        books_list.append(obj)\n",
    "\n",
    "    heapsort(books_list)\n",
    "    return books_list"
   ]
  },
  {
   "cell_type": "code",
   "execution_count": 7,
   "metadata": {},
   "outputs": [],
   "source": [
    "books_list = create_books_list()\n",
    "size = len(books_list)"
   ]
  },
  {
   "attachments": {},
   "cell_type": "markdown",
   "metadata": {},
   "source": [
    "##### In this chunk, we try to tokenize our database in order to ease the recommendation using Spacy and NLTK.\n",
    "##### This operation will help reduce the size of the words we can use to recommend. (Stemming and Lemmatization).  "
   ]
  },
  {
   "cell_type": "code",
   "execution_count": 8,
   "metadata": {},
   "outputs": [],
   "source": [
    "def create_books_dict(books_list):\n",
    "    \"\"\"\n",
    "    Creates a dictionary of books using their ISBN as keys and a set of tokenized words from the title, description, and genre as values.\n",
    "\n",
    "    Args:\n",
    "        books_list (list): A list of Book objects.\n",
    "\n",
    "    Returns:\n",
    "        dict: A dictionary where the keys are the ISBNs of the books and the values are sets of tokenized words from the title, description, and genre.\n",
    "\n",
    "    \"\"\"\n",
    "    verify_word = lambda word: word.lower() not in stopwords_set and word.isalnum()\n",
    "\n",
    "    tokenized_title = lambda book: {word.lower() for word in book.title.split(' ') if verify_word(word)}\n",
    "    tokenized_desc = lambda book: {word.lower() for word in book.desc.split(' ') if verify_word(word)}\n",
    "\n",
    "    return { book.isbn : tokenized_title(book) | tokenized_desc(book) | set(book.genre) for book in books_list }\n",
    "    "
   ]
  },
  {
   "cell_type": "code",
   "execution_count": 9,
   "metadata": {},
   "outputs": [],
   "source": [
    "books_dict = create_books_dict(books_list)"
   ]
  },
  {
   "attachments": {},
   "cell_type": "markdown",
   "metadata": {},
   "source": [
    "#### _______________________________"
   ]
  },
  {
   "attachments": {},
   "cell_type": "markdown",
   "metadata": {},
   "source": [
    "## __User Class__\n",
    "\n",
    "##### Our second Class for this code, where we store every information related to the user, such as the id, name, library, wishlist and other.\n",
    "\n",
    "##### Almost every recommendation will be done through the User class since it is easier and recommends to each and every user.\n",
    "\n",
    "##### For the methods of this class, they will be explained in the docstrings that accompany the code."
   ]
  },
  {
   "cell_type": "code",
   "execution_count": 10,
   "metadata": {},
   "outputs": [],
   "source": [
    "# This will aid for the read_book and rate_book methods in the user class\n",
    "def change_value(queue: Queue, old_value, new_value):\n",
    "    \"\"\"\n",
    "    Modifies a given queue by replacing occurrences of an old value with a new value.\n",
    "\n",
    "    Args:\n",
    "        queue (Queue): The queue to be modified.\n",
    "        old_value: The value to be replaced.\n",
    "        new_value: The new value to replace the old value with.\n",
    "\n",
    "    Returns:\n",
    "        None: This function modifies the queue in-place.\n",
    "\n",
    "    \"\"\"\n",
    "    modified = False\n",
    "    temp_queue = Queue()\n",
    "\n",
    "    # Dequeue elements until the desired value is found or the queue becomes empty\n",
    "    while len(queue) > 0:\n",
    "        element = queue.dequeue()\n",
    "        if element == old_value:\n",
    "            element = new_value\n",
    "            modified = True\n",
    "        temp_queue.enqueue(element)\n",
    "    # Enqueue the modified value back into the queue\n",
    "    if modified:\n",
    "        queue.enqueue(new_value)\n",
    "    # Enqueue the remaining dequeued elements back into the queue\n",
    "    while len(temp_queue) > 0:\n",
    "        queue.enqueue(temp_queue.dequeue())"
   ]
  },
  {
   "cell_type": "code",
   "execution_count": 11,
   "metadata": {},
   "outputs": [],
   "source": [
    "class User:\n",
    "    def __init__(self, id: int, name: str, fav_genres: LinkedList):\n",
    "        \"\"\"\n",
    "        Initializes a User object with the provided attributes.\n",
    "\n",
    "        Args:\n",
    "            id (int): The ID of the user.\n",
    "            name (str): The name of the user.\n",
    "            fav_genres (LinkedList): A linked list containing the user's favorite genres.\n",
    "            library (Queue): A queue representing the user's library of books.\n",
    "            wishlist (Queue): A queue representing the user's wishlist of books.\n",
    "\n",
    "        \"\"\"\n",
    "        verify_user(user_id= id, name= name, genres= fav_genres)\n",
    "        self.id = id\n",
    "        self.name = name\n",
    "        self.fav_genres = fav_genres\n",
    "        self.library = Queue()\n",
    "        self.wishlist = Queue()\n",
    "        self.community = LinkedList()\n",
    "\n",
    "    def read_book(self, book: Book, rate: int= 0):\n",
    "        \"\"\"\n",
    "        Rates a book in the user's library.\n",
    "\n",
    "        Args:\n",
    "            book (Book): The book to be rated.\n",
    "            rate (int): The rating to assign to the book.\n",
    "\n",
    "        Returns:\n",
    "            None\n",
    "\n",
    "        \"\"\"\n",
    "        print(f\"the book {str(book)} was added successfully to your library ... \")\n",
    "        self.library.enqueue((book, rate))\n",
    "        print(f\"You have rated the book {str(book)}: {rate} ... \")\n",
    "\n",
    "    def add_to_wishlist(self, book: Book):\n",
    "        \"\"\"\n",
    "        Adds a book to the user's wishlist.\n",
    "\n",
    "        Args:\n",
    "            book (Book): The book to be added to the wishlist.\n",
    "\n",
    "        Returns:\n",
    "            None\n",
    "\n",
    "        \"\"\"\n",
    "        self.wishlist.enqueue(book)\n",
    "\n",
    "    def search_author(self, author: str) -> LinkedList:\n",
    "        \"\"\"\n",
    "        Searches for books by a specific author.\n",
    "\n",
    "        Args:\n",
    "            author (str): The author's name to search for.\n",
    "\n",
    "        Returns:\n",
    "            LinkedList: A linked list of books written by the specified author.\n",
    "\n",
    "        \"\"\"\n",
    "        books = LinkedList()\n",
    "        for book in books_list:\n",
    "            if author in book.author:\n",
    "                books.prepend(book)\n",
    "        return books\n",
    "\n",
    "    def search_book(self, title: str) -> LinkedList:\n",
    "        \"\"\"\n",
    "        Searches for books with a specific title.\n",
    "\n",
    "        Args:\n",
    "            title (str): The title of the book to search for.\n",
    "\n",
    "        Returns:\n",
    "            LinkedList: A linked list of books with the specified title.\n",
    "\n",
    "        \"\"\"\n",
    "        books = LinkedList()\n",
    "        for book in books_list:\n",
    "            if title in book.title:\n",
    "                books.prepend(book)\n",
    "        return books\n",
    "\n",
    "    def search_book_isbn(self, isbn: str) -> LinkedList:\n",
    "        \"\"\"\n",
    "    Searches for a book with a specific ISBN.\n",
    "\n",
    "    Args:\n",
    "        isbn (str): The ISBN of the book to search for.\n",
    "\n",
    "    Returns:\n",
    "        Book Object: The book with the specified ISBN.\n",
    "\n",
    "    \"\"\"\n",
    "        for book in books_list:\n",
    "            if isbn in book.isbn:\n",
    "                return book\n",
    "\n",
    "    def search_genre(self, genre: str) -> LinkedList:\n",
    "        \"\"\"\n",
    "    Searches for books within a specific genre.\n",
    "\n",
    "    Args:\n",
    "        genre (str): The genre to search for.\n",
    "\n",
    "    Returns:\n",
    "        LinkedList: A linked list of books belonging to the specified genre.\n",
    "\n",
    "    \"\"\"\n",
    "        books = LinkedList()\n",
    "        for book in books_list:\n",
    "            if genre.lower() in book.genre:\n",
    "                # prepend to get in decreasing order with low cost of operation (add at head)\n",
    "                books.prepend(book)\n",
    "        return books\n",
    "\n",
    "    def search_keywords(self, keywords: str, lower = 0, higher = size) -> LinkedList:\n",
    "        \"\"\"\n",
    "    Searches for books based on one or more keywords .\n",
    "\n",
    "    Args:\n",
    "        keywords (str): Variable number of keyword arguments separated by commas (,).\n",
    "        lower (int): lower bound of search in the index, the higher it is the higher the book's rank\n",
    "        higher (int): higher bound of search in the index\n",
    "\n",
    "    Returns:\n",
    "        LinkedList: The books corresponding to the keywords\n",
    "\n",
    "    \"\"\"\n",
    "        keyterms = [ps.stem(term) for term in keywords.split(',')]\n",
    "        books = LinkedList()\n",
    "        for i in range(lower, higher):\n",
    "            book = books_list[i]\n",
    "            tokens = [ps.stem(word) for word in books_dict[book.isbn]]\n",
    "            score = sum([1 if lemma in keyterms else 0 for lemma in tokens])\n",
    "            # book must have at least 6 keyterms in common\n",
    "            if score >= 6:\n",
    "                books.prepend(book.title)\n",
    "        \n",
    "        return books\n",
    "\n",
    "    def _find_max_count(self, data: list) -> str:\n",
    "        \"\"\"\n",
    "    Helper function to find the element with the maximum count in a list.\n",
    "\n",
    "    Args:\n",
    "        data (list): A list of elements.\n",
    "\n",
    "    Returns:\n",
    "        str: The element with the maximum count.\n",
    "\n",
    "    \"\"\"\n",
    "        # using count dictionary approach\n",
    "        counts = dict()\n",
    "        for elem in data:\n",
    "            # set count to 0 if checked for the first time else add 1\n",
    "            counts[elem] = counts.get(elem, 0) + 1\n",
    "\n",
    "        max_count = 0\n",
    "        for (elem, count) in counts.items():\n",
    "            (max_name, max_count) = (\n",
    "                elem, count) if max_count < count else (max_name, max_count)\n",
    "\n",
    "        return max_name\n",
    "\n",
    "    def most_checked_genre(self) -> str:\n",
    "        \"\"\"\n",
    "    Returns the genre that has been checked out the most in the user's library.\n",
    "\n",
    "    Returns:\n",
    "        str: The genre with the highest check count from the user.\n",
    "\n",
    "    \"\"\"\n",
    "        genres = [genre for node in self.library for genre in node.data[0].genre]\n",
    "        if genres != []:\n",
    "            return self._find_max_count(genres)\n",
    "\n",
    "    def most_checked_author(self) -> str:\n",
    "        \"\"\"\n",
    "    Returns the author who has been checked out the most in the user's library.\n",
    "\n",
    "    Returns:\n",
    "        str: The author with the highest check-out count.\n",
    "\n",
    "    \"\"\"\n",
    "        # same approach as genre\n",
    "        authors = [\n",
    "            author for book in self.library for author in book.author.split(',')]\n",
    "        if authors != []:\n",
    "            return self._find_max_count(authors)\n",
    "\n",
    "    def recommend_books_genre(self) -> dict:\n",
    "        \"\"\"\n",
    "    Recommends books based on the user's favorite genres.\n",
    "\n",
    "    Returns:\n",
    "        dict: A dictionary where the keys are the user's favorite genres and the values are linked lists of recommended books.\n",
    "\n",
    "    \"\"\"\n",
    "        books = dict()\n",
    "        for genre in self.fav_genres:\n",
    "            count = 3\n",
    "            books[genre.data] = LinkedList()\n",
    "            # traverse books_list (heap) in reverse order to get values in decreasing order\n",
    "            for i in range(size - 1, -1, -1):\n",
    "                if genre.data.lower() in books_list[i].genre and count != 0:\n",
    "                    books[genre.data].append(books_list[i])\n",
    "                    count -= 1\n",
    "        return books\n",
    "    \n",
    "    def recommend_books(self):\n",
    "        recommended = LinkedList()\n",
    "        \n",
    "        liked_books = [node.data[0] for node in self.library if node.data[1] >= 4]\n",
    "        for book in liked_books:\n",
    "            idx = books_list.index(book)\n",
    "            higher, lower = min(idx + 20, size), max(idx - 20, 0)\n",
    "            string = ','.join(list(books_dict[book.isbn]))\n",
    "            recs = self.search_keywords(string, lower, higher)\n",
    "            recommended.prepend(recs)\n",
    "        return recommended\n",
    "    \n",
    "    def add_community(self, users: list):\n",
    "        for user in users:\n",
    "            if user.most_checked_genre() in self.fav_genres:\n",
    "                self.community.add(user)\n",
    "        print(f\"{user.name} with id: {user.id} was added successfully to your Reader Community !\")\n",
    "\n",
    "    def recommend_other_users(self):\n",
    "        experiment = LinkedList()\n",
    "        for friend in self.community:\n",
    "            friend_books = [node.data[0] for node in friend.library if node.data[0] not in self.library and node.data[1] >= 4]\n",
    "            experiment.prepend(friend_books)\n",
    "        \n",
    "        return experiment "
   ]
  },
  {
   "cell_type": "code",
   "execution_count": 12,
   "metadata": {},
   "outputs": [],
   "source": [
    "def create_users_list():\n",
    "    \"\"\"\n",
    "    Creates a list of User objects from the provided users data.\n",
    "\n",
    "    Returns:\n",
    "        list: A list of User objects.\n",
    "\n",
    "    \"\"\"\n",
    "    def _generate_linked_list(py_l, linked_l):\n",
    "        # helper function to generate linked list from python list\n",
    "        for elem in py_l:\n",
    "            linked_l.prepend(elem)\n",
    "        return linked_l\n",
    "    \n",
    "    users_list = []\n",
    "    for user in users:\n",
    "        user_id, name, genres = list(user.values())\n",
    "        obj = User(user_id, name, _generate_linked_list(genres, LinkedList()))\n",
    "        users_list.append(obj)\n",
    "\n",
    "    return users_list\n",
    "\n",
    "users = create_users_list()"
   ]
  },
  {
   "attachments": {},
   "cell_type": "markdown",
   "metadata": {},
   "source": [
    "# <b>Project Simulation:</b>"
   ]
  },
  {
   "cell_type": "code",
   "execution_count": 13,
   "metadata": {},
   "outputs": [
    {
     "name": "stdout",
     "output_type": "stream",
     "text": [
      "['Octavia Schwartz', 'Edwin Preston', 'Indie Greer', 'Koda Lowe', 'Amari Felix', 'Rodney Whitaker', 'Ivanna Hebert', 'Guillermo Blanchard', 'Layne Heath', 'Lionel Pope', 'Aurelia Wilkinson', 'Leonard Schroeder', 'Cameron Ellis', 'Cole Coffey', 'Paola Patel', 'Parker Cruz', 'Claire Pruitt', 'Gatlin Lozano', 'Cecelia Wilkinson', 'Leonard Bravo', 'Amoura Moran']\n",
      "['Victorian, Humor, ', 'Gender Studies, Business, ', 'Chad, Bolivia, ', 'Morocco, Eritrea, ', 'Beer, Angels, ', 'Basketball, Mail Order Brides, ', 'Gay, Mental Illness, ', 'Greece, Conservation, ', 'Polish Literature, Erotica, ', 'Spain, College, ', 'Comedian, 14th Century, ', 'Muslims, Germany, ', 'Greece, Cities, ', 'Russian Literature, Football, ', 'Nursery Rhymes, Modern Classics, ', 'Latin American History, Quilting, ', 'Thelema, Liberia, ', 'Scotland, Natural History, ', 'Time Travel, Zimbabwe, ', 'Personal Development, Anglo Saxon, ', 'Crime, Photography, ']\n"
     ]
    }
   ],
   "source": [
    "sample_users = users[:21]\n",
    "sample_names = [user.name for user in sample_users]\n",
    "sample_genres = [str(user.fav_genres) for user in sample_users]\n",
    "print(sample_names)\n",
    "print(sample_genres)"
   ]
  },
  {
   "cell_type": "code",
   "execution_count": 14,
   "metadata": {},
   "outputs": [],
   "source": [
    "dict_users = {user.id: None for user in sample_users}\n",
    "for user in sample_users:\n",
    "    packed_books = user.recommend_books_genre()\n",
    "    books = [[book.data for book in books] for books in list(packed_books.values())]\n",
    "    dict_users[user.id] = books\n",
    "\n"
   ]
  },
  {
   "attachments": {},
   "cell_type": "markdown",
   "metadata": {},
   "source": [
    "#### We will try to demonstrate some of our key methods for one user, then we will generalize for the whole __sample_users__ list"
   ]
  },
  {
   "cell_type": "code",
   "execution_count": 15,
   "metadata": {},
   "outputs": [],
   "source": [
    "user0 = sample_users[0]\n",
    "user0.wishlist = Queue()\n",
    "user0.library = Queue()\n",
    "\n",
    "user0.add_to_wishlist(dict_users[user0.id][0])\n"
   ]
  },
  {
   "cell_type": "code",
   "execution_count": 16,
   "metadata": {},
   "outputs": [
    {
     "name": "stdout",
     "output_type": "stream",
     "text": [
      "the book Devil in Winter by Lisa Kleypas was added successfully to your library ... \n",
      "You have rated the book Devil in Winter by Lisa Kleypas: 2.5 ... \n",
      "the book Secrets of a Summer Night by Lisa Kleypas was added successfully to your library ... \n",
      "You have rated the book Secrets of a Summer Night by Lisa Kleypas: 3.5 ... \n",
      "the book Scandal in Spring by Lisa Kleypas was added successfully to your library ... \n",
      "You have rated the book Scandal in Spring by Lisa Kleypas: 4.5 ... \n"
     ]
    }
   ],
   "source": [
    "for book in dict_users[user0.id][0]:\n",
    "    user0.read_book(book, random.randint(0,5)\n",
    "\n"
   ]
  },
  {
   "attachments": {},
   "cell_type": "markdown",
   "metadata": {},
   "source": [
    "#### Now for the __sample_users__"
   ]
  },
  {
   "cell_type": "code",
   "execution_count": 17,
   "metadata": {},
   "outputs": [
    {
     "name": "stdout",
     "output_type": "stream",
     "text": [
      "the book The Vagina Monologues by Eve Ensler,Gloria Steinem was added successfully to your library ... \n",
      "You have rated the book The Vagina Monologues by Eve Ensler,Gloria Steinem: 0 ... \n",
      "the book In a Different Voice: Psychological Theory and Women's Development by Carol Gilligan was added successfully to your library ... \n",
      "You have rated the book In a Different Voice: Psychological Theory and Women's Development by Carol Gilligan: 5 ... \n",
      "the book Against Our Will: Men, Women and Rape by Susan Brownmiller was added successfully to your library ... \n",
      "You have rated the book Against Our Will: Men, Women and Rape by Susan Brownmiller: 5 ... \n",
      "the book African Rice Heart by Emily Star Wilkens was added successfully to your library ... \n",
      "You have rated the book African Rice Heart by Emily Star Wilkens: 2 ... \n",
      "the book The Time in Between by MarÃ­a DueÃ±as,Daniel Hahn was added successfully to your library ... \n",
      "You have rated the book The Time in Between by MarÃ­a DueÃ±as,Daniel Hahn: 2 ... \n",
      "the book Stolen Lives: Twenty Years in a Desert Jail by Malika Oufkir,MichÃ¨le Fitoussi was added successfully to your library ... \n",
      "You have rated the book Stolen Lives: Twenty Years in a Desert Jail by Malika Oufkir,MichÃ¨le Fitoussi: 0 ... \n",
      "the book In Morocco by Edith Wharton was added successfully to your library ... \n",
      "You have rated the book In Morocco by Edith Wharton: 4 ... \n",
      "the book The Oxford Companion to Beer by Garrett Oliver,Tom Colicchio was added successfully to your library ... \n",
      "You have rated the book The Oxford Companion to Beer by Garrett Oliver,Tom Colicchio: 5 ... \n",
      "the book Brewing Better Beer: Master Lesson for Advanced Homeowners by Gordon  Strong was added successfully to your library ... \n",
      "You have rated the book Brewing Better Beer: Master Lesson for Advanced Homeowners by Gordon  Strong: 3 ... \n",
      "the book America Walks Into a Bar: A Spirited History of Taverns and Saloons, Speakeasies and Grog Shops by Christine Sismondo was added successfully to your library ... \n",
      "You have rated the book America Walks Into a Bar: A Spirited History of Taverns and Saloons, Speakeasies and Grog Shops by Christine Sismondo: 3 ... \n",
      "the book Boy21 by Matthew Quick was added successfully to your library ... \n",
      "You have rated the book Boy21 by Matthew Quick: 2 ... \n",
      "the book Sacred Hoops: Spiritual Lessons of a Hardwood Warrior by Phil Jackson,Hugh Delehanty was added successfully to your library ... \n",
      "You have rated the book Sacred Hoops: Spiritual Lessons of a Hardwood Warrior by Phil Jackson,Hugh Delehanty: 5 ... \n",
      "the book Shaq Uncut: Tall Tales and Untold Stories by Shaquille O'Neal,Jackie MacMullan was added successfully to your library ... \n",
      "You have rated the book Shaq Uncut: Tall Tales and Untold Stories by Shaquille O'Neal,Jackie MacMullan: 5 ... \n",
      "the book Hot Head by Damon Suede was added successfully to your library ... \n",
      "You have rated the book Hot Head by Damon Suede: 3 ... \n",
      "the book I Am Not Myself These Days by Josh Kilmer-Purcell was added successfully to your library ... \n",
      "You have rated the book I Am Not Myself These Days by Josh Kilmer-Purcell: 1 ... \n",
      "the book The Kid: What Happened After My Boyfriend and I Decided to Go Get Pregnant by Dan Savage was added successfully to your library ... \n",
      "You have rated the book The Kid: What Happened After My Boyfriend and I Decided to Go Get Pregnant by Dan Savage: 3 ... \n",
      "the book The Thread by Victoria Hislop was added successfully to your library ... \n",
      "You have rated the book The Thread by Victoria Hislop: 2 ... \n",
      "the book Helen of Troy by Margaret George was added successfully to your library ... \n",
      "You have rated the book Helen of Troy by Margaret George: 4 ... \n",
      "the book Persian Fire: The First World Empire and the Battle for the West by Tom Holland was added successfully to your library ... \n",
      "You have rated the book Persian Fire: The First World Empire and the Battle for the West by Tom Holland: 3 ... \n",
      "the book View with a Grain of Sand: Selected Poems by WisÅ‚awa Szymborska,StanisÅ‚aw BaraÅ„czak,Clare Cavanagh was added successfully to your library ... \n",
      "You have rated the book View with a Grain of Sand: Selected Poems by WisÅ‚awa Szymborska,StanisÅ‚aw BaraÅ„czak,Clare Cavanagh: 5 ... \n",
      "the book Achaja. Tom I by Andrzej ZiemiaÅ„ski was added successfully to your library ... \n",
      "You have rated the book Achaja. Tom I by Andrzej ZiemiaÅ„ski: 2 ... \n",
      "the book Another Day of Life by Ryszard KapuÅ›ciÅ„ski,Klara Glowczewska,Katarzyna Mroczkowska-Brand,William Brand was added successfully to your library ... \n",
      "You have rated the book Another Day of Life by Ryszard KapuÅ›ciÅ„ski,Klara Glowczewska,Katarzyna Mroczkowska-Brand,William Brand: 3 ... \n",
      "the book The Time in Between by MarÃ­a DueÃ±as,Daniel Hahn was added successfully to your library ... \n",
      "You have rated the book The Time in Between by MarÃ­a DueÃ±as,Daniel Hahn: 0 ... \n",
      "the book The Flanders Panel by Arturo PÃ©rez-Reverte,Margaret Jull Costa was added successfully to your library ... \n",
      "You have rated the book The Flanders Panel by Arturo PÃ©rez-Reverte,Margaret Jull Costa: 5 ... \n",
      "the book Leaving the Atocha Station by Ben Lerner was added successfully to your library ... \n",
      "You have rated the book Leaving the Atocha Station by Ben Lerner: 2 ... \n",
      "the book Life As I Blow It: Tales Of Love, Life & Sex . . . Not Necessarily In That Order by Sarah Colonna,Chelsea Handler was added successfully to your library ... \n",
      "You have rated the book Life As I Blow It: Tales Of Love, Life & Sex . . . Not Necessarily In That Order by Sarah Colonna,Chelsea Handler: 2 ... \n",
      "the book I'm Not Really Here by Tim Allen was added successfully to your library ... \n",
      "You have rated the book I'm Not Really Here by Tim Allen: 2 ... \n",
      "the book A Place Called Armageddon by C.C. Humphreys,Chris Humphreys was added successfully to your library ... \n",
      "You have rated the book A Place Called Armageddon by C.C. Humphreys,Chris Humphreys: 2 ... \n",
      "the book A Quiet Revolution: The Veil's Resurgence, from the Middle East to America by Leila Ahmed was added successfully to your library ... \n",
      "You have rated the book A Quiet Revolution: The Veil's Resurgence, from the Middle East to America by Leila Ahmed: 5 ... \n",
      "the book I Speak for Myself: American Women on Being Muslim by Maria M. Ebrahimji,Zahra T Suratwala was added successfully to your library ... \n",
      "You have rated the book I Speak for Myself: American Women on Being Muslim by Maria M. Ebrahimji,Zahra T Suratwala: 2 ... \n",
      "the book The Thread by Victoria Hislop was added successfully to your library ... \n",
      "You have rated the book The Thread by Victoria Hislop: 5 ... \n",
      "the book Helen of Troy by Margaret George was added successfully to your library ... \n",
      "You have rated the book Helen of Troy by Margaret George: 1 ... \n",
      "the book Persian Fire: The First World Empire and the Battle for the West by Tom Holland was added successfully to your library ... \n",
      "You have rated the book Persian Fire: The First World Empire and the Battle for the West by Tom Holland: 4 ... \n",
      "the book Heart of a Dog by Mikhail Bulgakov,Mirra Ginsburg was added successfully to your library ... \n",
      "You have rated the book Heart of a Dog by Mikhail Bulgakov,Mirra Ginsburg: 5 ... \n",
      "the book Golden Calf by Ilya Ilf,Yevgeny Petrov was added successfully to your library ... \n",
      "You have rated the book Golden Calf by Ilya Ilf,Yevgeny Petrov: 1 ... \n",
      "the book The Tale of Tsar Saltan by Alexander Pushkin,Gennady Spirin was added successfully to your library ... \n",
      "You have rated the book The Tale of Tsar Saltan by Alexander Pushkin,Gennady Spirin: 0 ... \n",
      "the book The Real Mother Goose by Blanche Fisher Wright was added successfully to your library ... \n",
      "You have rated the book The Real Mother Goose by Blanche Fisher Wright: 1 ... \n",
      "the book Nursery Rhyme Comics: 50 Timeless Rhymes from 50 Celebrated Cartoonists by Chris Duffy,Leonard S. Marcus,Vanessa Davis,Eleanor Davis,Nick Abadzis,Richard    Thompson,James Sturm,Craig Thompson,Gahan Wilson,Drew Weing,Stan Sakai,Richard Sala,Roz Chast,Raina Telgemeier,Mike Mignola,Tao Nyeu,Mathew Forsythe,Cyril Pedrosa,Sara Varon,Laura Park,Marc Rosenthal,Patrick McDonnell,Jen Wang,Jordan Crane,Jaime HernÃ¡ndez,Lark Pien,George O'Connor,Dave Roman,Ben Hatke,Kate Beaton,Bob Flynn,Theo Ellsworth,Nick Bruel,Alexis Frederick-Fost,David Macaulay,Tony Millionaire,Mark Martin,Eric Orchard,Gilbert HernÃ¡ndez,Gene Luen Yang,Mo Oh,Mark  Siegel,Stephanie Yue,Lilli CarrÃ©,Rebecca Dart,Jules Feiffer,Lucy Knisley,J.P. Coovert,Aaron Renier,Vera Brosgol,Scott   Campbell was added successfully to your library ... \n",
      "You have rated the book Nursery Rhyme Comics: 50 Timeless Rhymes from 50 Celebrated Cartoonists by Chris Duffy,Leonard S. Marcus,Vanessa Davis,Eleanor Davis,Nick Abadzis,Richard    Thompson,James Sturm,Craig Thompson,Gahan Wilson,Drew Weing,Stan Sakai,Richard Sala,Roz Chast,Raina Telgemeier,Mike Mignola,Tao Nyeu,Mathew Forsythe,Cyril Pedrosa,Sara Varon,Laura Park,Marc Rosenthal,Patrick McDonnell,Jen Wang,Jordan Crane,Jaime HernÃ¡ndez,Lark Pien,George O'Connor,Dave Roman,Ben Hatke,Kate Beaton,Bob Flynn,Theo Ellsworth,Nick Bruel,Alexis Frederick-Fost,David Macaulay,Tony Millionaire,Mark Martin,Eric Orchard,Gilbert HernÃ¡ndez,Gene Luen Yang,Mo Oh,Mark  Siegel,Stephanie Yue,Lilli CarrÃ©,Rebecca Dart,Jules Feiffer,Lucy Knisley,J.P. Coovert,Aaron Renier,Vera Brosgol,Scott   Campbell: 1 ... \n",
      "the book The Itsy Bitsy Spider by Iza Trapani was added successfully to your library ... \n",
      "You have rated the book The Itsy Bitsy Spider by Iza Trapani: 3 ... \n",
      "the book The Conquest of New Spain by Bernal DÃ­az del Castillo,J.M. Cohen was added successfully to your library ... \n",
      "You have rated the book The Conquest of New Spain by Bernal DÃ­az del Castillo,J.M. Cohen: 0 ... \n",
      "the book Bitter Fruit: The Story of the American Coup in Guatemala by Stephen C. Schlesinger,Stephen Kinzer was added successfully to your library ... \n",
      "You have rated the book Bitter Fruit: The Story of the American Coup in Guatemala by Stephen C. Schlesinger,Stephen Kinzer: 1 ... \n",
      "the book CompaÃ±ero: The Life and Death of Che Guevara by Jorge G. CastaÃ±eda,Ø¨ÛŒÚ˜Ù† was added successfully to your library ... \n",
      "You have rated the book CompaÃ±ero: The Life and Death of Che Guevara by Jorge G. CastaÃ±eda,Ø¨ÛŒÚ˜Ù†: 1 ... \n",
      "the book Aleister Crowley - The Biography: Spiritual Revolutionary, Romantic Explorer, Occult Master and Spy by Tobias Churton was added successfully to your library ... \n",
      "You have rated the book Aleister Crowley - The Biography: Spiritual Revolutionary, Romantic Explorer, Occult Master and Spy by Tobias Churton: 4 ... \n",
      "the book Ask Baba Lon: Answers to Questions of Life and Magick by Lon Milo DuQuette,David Cherubim,Constance Jean DuQuette was added successfully to your library ... \n",
      "You have rated the book Ask Baba Lon: Answers to Questions of Life and Magick by Lon Milo DuQuette,David Cherubim,Constance Jean DuQuette: 2 ... \n",
      "the book Aleister Crowley   Revolt Of The Magicians: A Novel by Lon Milo DuQuette,James M. Bratkowsky was added successfully to your library ... \n",
      "You have rated the book Aleister Crowley   Revolt Of The Magicians: A Novel by Lon Milo DuQuette,James M. Bratkowsky: 0 ... \n",
      "the book Outlander by Diana Gabaldon was added successfully to your library ... \n",
      "You have rated the book Outlander by Diana Gabaldon: 4 ... \n",
      "the book Voyager by Diana Gabaldon was added successfully to your library ... \n",
      "You have rated the book Voyager by Diana Gabaldon: 0 ... \n",
      "the book The Bride by Julie Garwood was added successfully to your library ... \n",
      "You have rated the book The Bride by Julie Garwood: 1 ... \n",
      "the book Outlander by Diana Gabaldon was added successfully to your library ... \n",
      "You have rated the book Outlander by Diana Gabaldon: 3 ... \n",
      "the book 11/22/63 by Stephen King was added successfully to your library ... \n",
      "You have rated the book 11/22/63 by Stephen King: 5 ... \n",
      "the book Voyager by Diana Gabaldon was added successfully to your library ... \n",
      "You have rated the book Voyager by Diana Gabaldon: 4 ... \n",
      "the book Thinking, Fast and Slow by Daniel Kahneman was added successfully to your library ... \n",
      "You have rated the book Thinking, Fast and Slow by Daniel Kahneman: 2 ... \n",
      "the book The Richest Man in Babylon by George S. Clason was added successfully to your library ... \n",
      "You have rated the book The Richest Man in Babylon by George S. Clason: 0 ... \n",
      "the book The Intelligent Investor by Benjamin Graham,Jason Zweig,Warren Buffett was added successfully to your library ... \n",
      "You have rated the book The Intelligent Investor by Benjamin Graham,Jason Zweig,Warren Buffett: 1 ... \n",
      "the book Misery by Stephen King was added successfully to your library ... \n",
      "You have rated the book Misery by Stephen King: 1 ... \n",
      "the book A Study in Scarlet by Arthur Conan Doyle was added successfully to your library ... \n",
      "You have rated the book A Study in Scarlet by Arthur Conan Doyle: 3 ... \n",
      "the book Defending Jacob by William Landay was added successfully to your library ... \n",
      "You have rated the book Defending Jacob by William Landay: 3 ... \n"
     ]
    }
   ],
   "source": [
    "import random\n",
    "for user in sample_users[1:]:\n",
    "        \n",
    "    user.add_to_wishlist(dict_users[user.id][0])\n",
    "\n",
    "    for book in dict_users[user.id][0]:\n",
    "        user.read_book(book, random.randint(0, 5))\n"
   ]
  },
  {
   "cell_type": "code",
   "execution_count": 18,
   "metadata": {},
   "outputs": [],
   "source": [
    "number = random.randint(0, 21)\n",
    "\n",
    "random_user = sample_users[number]\n",
    "\n",
    "recs = random_user.recommend_books()"
   ]
  },
  {
   "cell_type": "code",
   "execution_count": 19,
   "metadata": {},
   "outputs": [
    {
     "name": "stdout",
     "output_type": "stream",
     "text": [
      "True History of the Kelly Gang, Carrion Comfort, Mercy, The Mortal Instruments, The Flanders Panel, Parce que je t'aime, The Little Coffee Shop of Kabul, Blue Monday, The Jefferson Key, N or M?, , \n"
     ]
    }
   ],
   "source": [
    "print(recs)"
   ]
  },
  {
   "cell_type": "code",
   "execution_count": 20,
   "metadata": {},
   "outputs": [
    {
     "name": "stdout",
     "output_type": "stream",
     "text": [
      "Amoura Moran with id: 20 was added successfully to your Reader Community !\n"
     ]
    }
   ],
   "source": [
    "random_user.add_community(sample_users)"
   ]
  },
  {
   "cell_type": "code",
   "execution_count": 21,
   "metadata": {},
   "outputs": [
    {
     "name": "stdout",
     "output_type": "stream",
     "text": [
      "\n"
     ]
    }
   ],
   "source": [
    "print(random_user.recommend_other_users())"
   ]
  }
 ],
 "metadata": {
  "kernelspec": {
   "display_name": "Python 3",
   "language": "python",
   "name": "python3"
  },
  "language_info": {
   "codemirror_mode": {
    "name": "ipython",
    "version": 3
   },
   "file_extension": ".py",
   "mimetype": "text/x-python",
   "name": "python",
   "nbconvert_exporter": "python",
   "pygments_lexer": "ipython3",
   "version": "3.10.7"
  },
  "orig_nbformat": 4
 },
 "nbformat": 4,
 "nbformat_minor": 2
}
