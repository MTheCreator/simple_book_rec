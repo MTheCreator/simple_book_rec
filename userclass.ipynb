{
 "cells": [
  {
   "cell_type": "code",
   "execution_count": 7,
   "metadata": {},
   "outputs": [],
   "source": [
    "from usefulclasses import Node, LinkedList, Stack, Queue, heapsort\n",
    "import json"
   ]
  },
  {
   "cell_type": "code",
   "execution_count": 8,
   "metadata": {},
   "outputs": [],
   "source": [
    "with open('books.json') as file:\n",
    "    books = json.load(file)"
   ]
  },
  {
   "cell_type": "code",
   "execution_count": 9,
   "metadata": {},
   "outputs": [],
   "source": [
    "class Book:\n",
    "    def __init__(self, author: str, desc: str, genre: list, isbn: str, pages: int, rating: int, title: str, totalratings: int):\n",
    "        self.author = author                    # Initialisation of the author of the book\n",
    "        self.desc = desc                        # Short description of the content of the book\n",
    "        self.genre = genre                      # List that provides the many genres that the book lies within \n",
    "        self.isbn = isbn                        # ID of the book, used to ease the access to the book objects\n",
    "        self.pages = pages                      # Number of pages in each book, other mean of recommendation\n",
    "        self.rating = rating                    # A ratiing on 5, with 5 being the most recommendable and 0 the least\n",
    "        self.title = title                      # Initialisation of the title of the book\n",
    "        self.totalratings = totalratings        # The total number of given ratings to the book, popularity credential\n",
    "        self.rate = self.rating / self.totalratings if self.totalratings != 0 else 0 # rate for sorting\n",
    "        \n",
    "    def __str__(self):\n",
    "        return self.title + \" by \" + self.author + \"\\trate: \" + str(self.rate)\n",
    "    \n",
    "    "
   ]
  },
  {
   "cell_type": "code",
   "execution_count": 10,
   "metadata": {},
   "outputs": [],
   "source": [
    "books_list = []\n",
    "for book in books:\n",
    "    author, desc, genre, isbn, pages, rating, title, totalratings = list(book.values())\n",
    "    obj = Book(author, desc, genre, isbn, pages, rating, title, totalratings)\n",
    "    books_list.append(obj)\n",
    "\n",
    "# sort books in ascending order\n",
    "heapsort(books_list)"
   ]
  },
  {
   "cell_type": "code",
   "execution_count": 12,
   "metadata": {},
   "outputs": [],
   "source": [
    "class user:\n",
    "    def __init__(self, id: int, name: str, fav_genres: LinkedList, library: Queue, wishlist: Queue):\n",
    "        self.id =id\n",
    "        self.name = name\n",
    "        self.fav_genres = fav_genres\n",
    "        self.library = library\n",
    "        self.wishlist = wishlist\n",
    "        \n",
    "    def read_book(self):\n",
    "        pass\n",
    "    def rate_book(self):\n",
    "        pass\n",
    "    def add_to_wishlist(self):\n",
    "        pass\n",
    "\n",
    "    def search_author(self, author: str) -> LinkedList: \n",
    "        books = LinkedList()\n",
    "        for book in books_list:\n",
    "            if author in book.author:\n",
    "                books.prepend(book)\n",
    "        return books\n",
    "\n",
    "    def search_book(self, title: str) -> LinkedList:\n",
    "        books = LinkedList()\n",
    "        for book in books_list:\n",
    "            if title in book.title:\n",
    "                books.prepend(book)\n",
    "        return books\n",
    "    \n",
    "    def search_book_isbn(self, isbn: str) -> LinkedList:\n",
    "        books = LinkedList()\n",
    "        for book in books_list:\n",
    "            if isbn in book.isbn:\n",
    "                books.prepend(book)\n",
    "        return books\n",
    "\n",
    "    def search_genre(self, genre: str) -> LinkedList:\n",
    "        books = LinkedList()\n",
    "        for book in books_list:\n",
    "            if genre in book.genre:\n",
    "                books.prepend(book)\n",
    "        return books\n",
    "\n",
    "    def search_keywords(self):\n",
    "        pass\n",
    "    \n",
    "    def most_checked_genre(self) -> str:\n",
    "        lib = self.library\n",
    "        \n",
    "        \n",
    "    def most_checked_author(self) -> str:\n",
    "        pass\n",
    "    \n",
    "    def recommend_books_genre(self) -> dict:\n",
    "        books = dict()\n",
    "        genre = self.fav_genres\n",
    "        while genre is not None:\n",
    "            count = 3\n",
    "            books[genre.val] = LinkedList()\n",
    "            for book in books_list:\n",
    "                if genre.val in book.genre and count != 0:\n",
    "                    books[genre.val].append(book) \n",
    "                    count -= 1\n",
    "            genre = genre.next\n",
    "        return books\n"
   ]
  }
 ],
 "metadata": {
  "kernelspec": {
   "display_name": "base",
   "language": "python",
   "name": "python3"
  },
  "language_info": {
   "codemirror_mode": {
    "name": "ipython",
    "version": 3
   },
   "file_extension": ".py",
   "mimetype": "text/x-python",
   "name": "python",
   "nbconvert_exporter": "python",
   "pygments_lexer": "ipython3",
   "version": "3.8.8"
  },
  "orig_nbformat": 4
 },
 "nbformat": 4,
 "nbformat_minor": 2
}
