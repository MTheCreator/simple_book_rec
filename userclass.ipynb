{
 "cells": [
  {
   "cell_type": "code",
   "execution_count": null,
   "metadata": {},
   "outputs": [],
   "source": [
    "# if code doesnt run make sure the click version is updated\n",
    "# ! pip install --upgrade click\n",
    "! pip install spacy\n",
    "! python -m spacy download en_core_web_sm\n",
    "! python -m spacy download en"
   ]
  },
  {
   "cell_type": "code",
   "execution_count": 1,
   "metadata": {},
   "outputs": [],
   "source": [
    "import spacy\n",
    "nlp = spacy.load(\"en_core_web_sm\")"
   ]
  },
  {
   "cell_type": "code",
   "execution_count": 2,
   "metadata": {},
   "outputs": [
    {
     "name": "stderr",
     "output_type": "stream",
     "text": [
      "[nltk_data] Downloading package stopwords to\n",
      "[nltk_data]     C:\\Users\\DELL\\AppData\\Roaming\\nltk_data...\n",
      "[nltk_data]   Package stopwords is already up-to-date!\n"
     ]
    },
    {
     "data": {
      "text/plain": [
       "True"
      ]
     },
     "execution_count": 2,
     "metadata": {},
     "output_type": "execute_result"
    }
   ],
   "source": [
    "from usefulclasses import Node, LinkedList, Queue, heapsort\n",
    "import json\n",
    "import nltk\n",
    "from nltk.corpus import stopwords\n",
    "import spacy\n",
    "nltk.download('stopwords')"
   ]
  },
  {
   "cell_type": "code",
   "execution_count": 3,
   "metadata": {},
   "outputs": [],
   "source": [
    "with open('books.json') as file:\n",
    "    books = json.load(file)"
   ]
  },
  {
   "cell_type": "code",
   "execution_count": 4,
   "metadata": {},
   "outputs": [],
   "source": [
    "class Book:\n",
    "    def __init__(self, author: str, desc: str, genre: list, isbn: str, pages: int, rating: int, title: str, totalratings: int):\n",
    "        self.author = author                    # Initialisation of the author of the book\n",
    "        self.desc = desc                        # Short description of the content of the book\n",
    "        self.genre = genre                      # List that provides the many genres that the book lies within \n",
    "        self.isbn = isbn                        # ID of the book, used to ease the access to the book objects\n",
    "        self.pages = pages                      # Number of pages in each book, other mean of recommendation\n",
    "        self.rating = rating                    # A ratiing on 5, with 5 being the most recommendable and 0 the least\n",
    "        self.title = title                      # Initialisation of the title of the book\n",
    "        self.totalratings = totalratings        # The total number of given ratings to the book, popularity credential\n",
    "        self.rate = self.rating * self.totalratings # rate for sorting\n",
    "        \n",
    "    def __str__(self):\n",
    "        return self.title + \" by \" + self.author + \"\\trate: \" + str(self.rate)\n",
    "    \n",
    "    def similar_books(self, data: dict):\n",
    "        pass\n",
    "     "
   ]
  },
  {
   "cell_type": "code",
   "execution_count": 5,
   "metadata": {},
   "outputs": [],
   "source": [
    "books_list = []\n",
    "for book in books:\n",
    "    author, desc, genre, isbn, pages, rating, title, totalratings = list(\n",
    "        book.values())\n",
    "    obj = Book(author, desc, list({g.lower() for g in genre.split(',')}), isbn, pages, rating, title, totalratings)\n",
    "    books_list.append(obj)\n",
    "\n",
    "# sort books in ascending order\n",
    "heapsort(books_list)"
   ]
  },
  {
   "cell_type": "code",
   "execution_count": 13,
   "metadata": {},
   "outputs": [],
   "source": [
    "books_dict = {}\n",
    "stopwords_set = set(stopwords.words('english'))\n",
    "for book in books_list:\n",
    "    tokenized_title = list({word.lower() for word in book.title.split(' ') if word.lower() not in stopwords_set and word.isalnum()})\n",
    "    tokenized_desc = list({word.lower() for word in book.desc.split(' ') if word.lower() not in stopwords_set and word.isalnum()})\n",
    "    books_dict[book] = set(tokenized_title + book.genre + tokenized_desc)"
   ]
  },
  {
   "cell_type": "code",
   "execution_count": null,
   "metadata": {},
   "outputs": [],
   "source": [
    "class user:\n",
    "    def __init__(self, id: int, name: str, fav_genres: LinkedList, library: Queue, wishlist: Queue):\n",
    "        self.id = id\n",
    "        self.name = name\n",
    "        self.fav_genres = fav_genres\n",
    "        self.library = library\n",
    "        self.wishlist = wishlist\n",
    "\n",
    "    def read_book(self):\n",
    "        pass\n",
    "\n",
    "    def rate_book(self):\n",
    "        pass\n",
    "\n",
    "    def add_to_wishlist(self):\n",
    "        pass\n",
    "\n",
    "    def search_author(self, author: str) -> LinkedList:\n",
    "        books = LinkedList()\n",
    "        for book in books_list:\n",
    "            if author in book.author:\n",
    "                books.prepend(book)\n",
    "        return books\n",
    "\n",
    "    def search_book(self, title: str) -> LinkedList:\n",
    "        books = LinkedList()\n",
    "        for book in books_list:\n",
    "            if title in book.title:\n",
    "                books.prepend(book)\n",
    "        return books\n",
    "\n",
    "    def search_book_isbn(self, isbn: str) -> LinkedList:\n",
    "        books = LinkedList()\n",
    "        for book in books_list:\n",
    "            if isbn in book.isbn:\n",
    "                # prepend to get in decreasing order with low cost of operation (add at head)\n",
    "                books.prepend(book)\n",
    "        return books\n",
    "\n",
    "    def search_genre(self, genre: str) -> LinkedList:\n",
    "        books = LinkedList()\n",
    "        for book in books_list:\n",
    "            if genre.lower() in book.genre:\n",
    "                # prepend to get in decreasing order with low cost of operation (add at head)\n",
    "                books.prepend(book)\n",
    "        return books\n",
    "\n",
    "    def search_keywords(self, *keywords: str):\n",
    "        pass\n",
    "\n",
    "    def _find_max_count(self, data: list) -> str:\n",
    "        # using count dictionary approach\n",
    "        counts = dict()\n",
    "        for elem in data:\n",
    "            # set count to 0 if checked for the first time else add 1\n",
    "            counts[elem] = counts.get(elem, 0) + 1\n",
    "\n",
    "        max_count = 0\n",
    "        for (elem, count) in counts.items():\n",
    "            (max_name, max_count) = (\n",
    "                elem, count) if max_count < count else (max_name, max_count)\n",
    "\n",
    "        return max_name\n",
    "\n",
    "    def most_checked_genre(self) -> str:\n",
    "        genres = [genre for book in self.library for genre in book.genre]\n",
    "        if genres != []:\n",
    "            return self._find_max_count(genres)\n",
    "\n",
    "    def most_checked_author(self) -> str:\n",
    "        # same approach as genre\n",
    "        authors = [\n",
    "            author for book in self.library for author in book.author.split(',')]\n",
    "        if authors != []:\n",
    "            return self._find_max_count(authors)\n",
    "\n",
    "    def recommend_books_genre(self) -> dict:\n",
    "        books = dict()\n",
    "        for genre in self.fav_genres:\n",
    "            count = 3\n",
    "            books[genre.val] = LinkedList()\n",
    "            # traverse books_list (heap) in reverse order to get values in decreasing order\n",
    "            for i in range(len(books_list) - 1, -1, -1):\n",
    "                if genre.val in books_list[i].genre and count != 0:\n",
    "                    books[genre.val].append(books_list[i])\n",
    "                    count -= 1\n",
    "        return books\n"
   ]
  },
  {
   "cell_type": "code",
   "execution_count": null,
   "metadata": {},
   "outputs": [],
   "source": []
  }
 ],
 "metadata": {
  "kernelspec": {
   "display_name": "base",
   "language": "python",
   "name": "python3"
  },
  "language_info": {
   "codemirror_mode": {
    "name": "ipython",
    "version": 3
   },
   "file_extension": ".py",
   "mimetype": "text/x-python",
   "name": "python",
   "nbconvert_exporter": "python",
   "pygments_lexer": "ipython3",
   "version": "3.8.8"
  },
  "orig_nbformat": 4
 },
 "nbformat": 4,
 "nbformat_minor": 2
}
