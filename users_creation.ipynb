{
 "cells": [
  {
   "cell_type": "code",
   "execution_count": 1,
   "metadata": {},
   "outputs": [],
   "source": [
    "import itertools\n",
    "import random\n",
    "import json\n",
    "\n",
    "def assign_elements(strings, size):\n",
    "    combinations = list(itertools.combinations(strings, random.randint(1, 3)))\n",
    "    random.shuffle(combinations)\n",
    "    combinations_as_lists = [list(combination) for combination in combinations]\n",
    "\n",
    "    return combinations_as_lists[:size]"
   ]
  },
  {
   "cell_type": "code",
   "execution_count": 2,
   "metadata": {},
   "outputs": [],
   "source": [
    "# creating genres list from books.json file\n",
    "file = open('books.json', 'r')\n",
    "data = json.load(file)\n",
    "in_genres = []\n",
    "for i in range(len(data)):\n",
    "    in_genres.append(data[i]['genre'])\n",
    "\n",
    "genres = []  \n",
    "for genre in in_genres:\n",
    "    genres.extend(genre.split(','))\n",
    "    \n",
    "list_of_genres = list(set(genres))\n",
    "\n",
    "genres = assign_elements(list_of_genres, 10291)"
   ]
  },
  {
   "cell_type": "code",
   "execution_count": 3,
   "metadata": {},
   "outputs": [],
   "source": [
    "# generating names list from random names in names.txt\n",
    "file = open('names.txt', 'r')\n",
    "name_list = file.readlines()\n",
    "names = [name.replace('\\n','') for name in name_list]"
   ]
  },
  {
   "cell_type": "code",
   "execution_count": 4,
   "metadata": {},
   "outputs": [],
   "source": [
    "# finalization of data creation\n",
    "\n",
    "ids = [i for i in range(10291)]\n",
    "\n",
    "data = []\n",
    "\n",
    "for i in range(len(names)):\n",
    "    item = {\n",
    "        'id': ids[i],\n",
    "        'name': names[i],\n",
    "        'genres': genres[i]\n",
    "    }\n",
    "    data.append(item)\n",
    "\n",
    "with open('users.json', 'w') as file:\n",
    "    json.dump(data, file)\n",
    "file.close()"
   ]
  }
 ],
 "metadata": {
  "kernelspec": {
   "display_name": "Python 3",
   "language": "python",
   "name": "python3"
  },
  "language_info": {
   "codemirror_mode": {
    "name": "ipython",
    "version": 3
   },
   "file_extension": ".py",
   "mimetype": "text/x-python",
   "name": "python",
   "nbconvert_exporter": "python",
   "pygments_lexer": "ipython3",
   "version": "3.8.8"
  },
  "orig_nbformat": 4
 },
 "nbformat": 4,
 "nbformat_minor": 2
}
