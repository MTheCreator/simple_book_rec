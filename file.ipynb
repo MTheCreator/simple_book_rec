{
 "cells": [
  {
   "cell_type": "code",
   "execution_count": 27,
   "metadata": {},
   "outputs": [],
   "source": [
    "import itertools\n",
    "import random\n",
    "\n",
    "def assign_elements(strings, size):\n",
    "    combinations = list(itertools.combinations(strings, random.randint(1, 3)))\n",
    "    random.shuffle(combinations)\n",
    "    combinations_as_lists = [list(combination) for combination in combinations]\n",
    "\n",
    "    return combinations_as_lists[:size]"
   ]
  },
  {
   "cell_type": "code",
   "execution_count": 57,
   "metadata": {},
   "outputs": [],
   "source": [
    "ids = [i for i in range(0, 10290)]\n",
    "\n",
    "list_of_genres = [\"Fiction\", \"Non-fiction\", \"Mystery\", \"Thriller\", \"Romance\", \"Science-Fiction\", \"Fantasy\", \"Horror\", \"Historical-Fiction\", \"Biography\", \"Autobiography\", \"Memoir\", \"Young Adult\",\n",
    "                  \"Children's\", \"Adventure\", \"Crime\", \"Comedy\", \"Drama\", \"Poetry\", \"Business\", \"Science\", \"Travel\", \"Philosophy\", \"Religion\", \"Art\", \"Cooking\", \"Sports\", \"History\", \"Politics\"]\n",
    "\n",
    "genres = assign_elements(list_of_genres, 10290)\n"
   ]
  },
  {
   "cell_type": "code",
   "execution_count": 58,
   "metadata": {},
   "outputs": [
    {
     "ename": "IndexError",
     "evalue": "list index out of range",
     "output_type": "error",
     "traceback": [
      "\u001b[1;31m---------------------------------------------------------------------------\u001b[0m",
      "\u001b[1;31mIndexError\u001b[0m                                Traceback (most recent call last)",
      "\u001b[1;32m<ipython-input-58-ca026c326e36>\u001b[0m in \u001b[0;36m<module>\u001b[1;34m\u001b[0m\n\u001b[0;32m      9\u001b[0m         \u001b[1;34m'id'\u001b[0m\u001b[1;33m:\u001b[0m \u001b[0mids\u001b[0m\u001b[1;33m[\u001b[0m\u001b[0mi\u001b[0m\u001b[1;33m]\u001b[0m\u001b[1;33m,\u001b[0m\u001b[1;33m\u001b[0m\u001b[1;33m\u001b[0m\u001b[0m\n\u001b[0;32m     10\u001b[0m         \u001b[1;34m'name'\u001b[0m\u001b[1;33m:\u001b[0m \u001b[0mnames\u001b[0m\u001b[1;33m[\u001b[0m\u001b[0mi\u001b[0m\u001b[1;33m]\u001b[0m\u001b[1;33m,\u001b[0m\u001b[1;33m\u001b[0m\u001b[1;33m\u001b[0m\u001b[0m\n\u001b[1;32m---> 11\u001b[1;33m         \u001b[1;34m'genres'\u001b[0m\u001b[1;33m:\u001b[0m \u001b[0mgenres\u001b[0m\u001b[1;33m[\u001b[0m\u001b[0mi\u001b[0m\u001b[1;33m]\u001b[0m\u001b[1;33m\u001b[0m\u001b[1;33m\u001b[0m\u001b[0m\n\u001b[0m\u001b[0;32m     12\u001b[0m     }\n\u001b[0;32m     13\u001b[0m     \u001b[0mdata\u001b[0m\u001b[1;33m.\u001b[0m\u001b[0mappend\u001b[0m\u001b[1;33m(\u001b[0m\u001b[0mitem\u001b[0m\u001b[1;33m)\u001b[0m\u001b[1;33m\u001b[0m\u001b[1;33m\u001b[0m\u001b[0m\n",
      "\u001b[1;31mIndexError\u001b[0m: list index out of range"
     ]
    }
   ],
   "source": [
    "import json\n",
    "\n",
    "names = json.load(open('data.json'))[0]['names']\n",
    "\n",
    "data = []\n",
    "\n",
    "for i in range(len(names)):\n",
    "    item = {\n",
    "        'id': ids[i],\n",
    "        'name': names[i],\n",
    "        'genres': genres[i]\n",
    "    }\n",
    "    data.append(item)\n",
    "\n",
    "with open('data1.json', 'w') as file:\n",
    "    json.dump(data, file)\n",
    "    file.close()"
   ]
  }
 ],
 "metadata": {
  "kernelspec": {
   "display_name": "Python 3",
   "language": "python",
   "name": "python3"
  },
  "language_info": {
   "codemirror_mode": {
    "name": "ipython",
    "version": 3
   },
   "file_extension": ".py",
   "mimetype": "text/x-python",
   "name": "python",
   "nbconvert_exporter": "python",
   "pygments_lexer": "ipython3",
   "version": "3.8.8"
  },
  "orig_nbformat": 4
 },
 "nbformat": 4,
 "nbformat_minor": 2
}
