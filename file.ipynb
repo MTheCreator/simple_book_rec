{
 "cells": [
  {
   "cell_type": "code",
   "execution_count": 25,
   "metadata": {},
   "outputs": [],
   "source": [
    "import itertools\n",
    "import random\n",
    "\n",
    "def assign_elements(strings, size):\n",
    "    combinations = list(itertools.combinations(strings, random.randint(1, 3)))\n",
    "    random.shuffle(combinations)\n",
    "    combinations_as_lists = [list(combination) for combination in combinations]\n",
    "\n",
    "    return combinations_as_lists[:size]"
   ]
  },
  {
   "cell_type": "code",
   "execution_count": 26,
   "metadata": {},
   "outputs": [],
   "source": [
    "names = [\"John Smith\", \"Emma Johnson\", \"Michael Brown\", \"Sophia Davis\", \"William Miller\", \"Olivia Wilson\", \"James Anderson\", \"Ava Taylor\", \"Benjamin Martinez\", \"Isabella Thompson\", \"Mason Clark\", \"Sophia Lewis\", \"Liam Hall\", \"Charlotte Young\", \"Elijah Lee\", \"Amelia Hernandez\", \"Mason Walker\", \"Harper Allen\", \"Logan Hill\", \"Evelyn King\", \"Aiden Carter\", \"Mia Adams\", \"Lucas Wright\", \"Abigail Hill\", \"Noah Green\", \"Emily Baker\", \"Alexander Roberts\", \"Madison Campbell\", \"Daniel Nelson\", \"Sofia Mitchell\", \"Matthew Ramirez\", \"Chloe Turner\", \"Samuel Phillips\", \"Grace Rodriguez\", \"David Parker\", \"Avery Evans\", \"Joseph Collins\", \"Ella Stewart\", \"Carter Morris\", \"Lily Rogers\", \"Owen Reed\", \"Zoey Cook\", \"Wyatt Morgan\", \"Violet Cooper\", \"Henry Rivera\", \"Penelope Bell\", \"Sebastian Howard\", \"Elizabeth Ward\", \"Jack Foster\", \"Scarlett Brooks\",\n",
    "         \"William Bailey\", \"Natalie Richardson\", \"Andrew Cox\", \"Layla Wood\", \"Luke Brooks\", \"Brooklyn Price\", \"Gabriel Gray\", \"Samantha Watson\", \"Eli Coleman\", \"Hannah Brooks\", \"Joshua Powell\", \"Addison Brooks\", \"Caleb Hughes\", \"Lillian Perry\", \"Ryan Long\", \"Stella Murphy\", \"Nathan Ross\", \"Savannah Butler\", \"Isaac Simmons\", \"Audrey Simmons\", \"Levi Ross\", \"Ellie Mitchell\", \"Christian Roberts\", \"Hazel Gonzalez\", \"Hunter Torres\", \"Nora Watson\", \"Eli Morgan\", \"Hannah Turner\", \"Connor Peterson\", \"Paisley Hughes\", \"Jeremiah Flores\", \"Eva Turner\", \"Julian Henderson\", \"Eleanor Sanchez\", \"Adrian Reed\", \"Clara Brooks\", \"Colton James\", \"Maya Patterson\", \"Charles Alexander\", \"Riley Rodriguez\", \"Josiah Anderson\", \"Emilia Reed\", \"Ayden Turner\", \"Vivian Wright\", \"Dominic Harris\", \"Madelyn Martin\", \"Steven Bailey\", \"Caroline Wright\", \"Timothy Hill\", \"Naomi Russe\"]\n",
    "\n",
    "ids = [i for i in range(0, 100)]\n",
    "\n",
    "list_of_genres = [\"Fiction\", \"Non-fiction\", \"Mystery\", \"Thriller\", \"Romance\", \"Science-Fiction\", \"Fantasy\", \"Horror\", \"Historical-Fiction\", \"Biography\", \"Autobiography\", \"Memoir\", \"Young Adult\",\n",
    "          \"Children's\", \"Adventure\", \"Crime\", \"Comedy\", \"Drama\", \"Poetry\", \"Business\", \"Science\", \"Travel\", \"Philosophy\", \"Religion\", \"Art\", \"Cooking\", \"Sports\", \"History\", \"Politics\"]\n",
    "\n",
    "genres = assign_elements(list_of_genres, 100)"
   ]
  },
  {
   "cell_type": "code",
   "execution_count": null,
   "metadata": {},
   "outputs": [],
   "source": [
    "import json\n",
    "\n",
    "data = []\n",
    "\n",
    "for i in range(len(names)):\n",
    "    item = {\n",
    "        'id': ids[i],\n",
    "        'name': names[i],\n",
    "        'genres': genres[i]\n",
    "    }\n",
    "    data.append(item)\n",
    "\n",
    "with open('users1.json', 'w') as file:\n",
    "    json.dump(data, file)"
   ]
  }
 ],
 "metadata": {
  "kernelspec": {
   "display_name": "Python 3",
   "language": "python",
   "name": "python3"
  },
  "language_info": {
   "codemirror_mode": {
    "name": "ipython",
    "version": 3
   },
   "file_extension": ".py",
   "mimetype": "text/x-python",
   "name": "python",
   "nbconvert_exporter": "python",
   "pygments_lexer": "ipython3",
   "version": "3.8.8"
  },
  "orig_nbformat": 4
 },
 "nbformat": 4,
 "nbformat_minor": 2
}
